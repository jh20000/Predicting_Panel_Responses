{
  "cells": [
    {
      "cell_type": "markdown",
      "source": [
        "#### drive mount"
      ],
      "metadata": {
        "id": "LAPTlgnKK4tK"
      }
    },
    {
      "cell_type": "code",
      "source": [
        "from google.colab import drive\n",
        "drive.mount('/content/drive')\n"
      ],
      "metadata": {
        "colab": {
          "base_uri": "https://localhost:8080/"
        },
        "id": "MFi-jLL2Ki9o",
        "outputId": "0ef15f6f-c6eb-4598-f82e-ec1eb74a4e19"
      },
      "execution_count": 1,
      "outputs": [
        {
          "output_type": "stream",
          "name": "stdout",
          "text": [
            "Drive already mounted at /content/drive; to attempt to forcibly remount, call drive.mount(\"/content/drive\", force_remount=True).\n"
          ]
        }
      ]
    },
    {
      "cell_type": "markdown",
      "metadata": {
        "id": "cdmBmojJKH0A"
      },
      "source": [
        "##### Imports & Global Setting"
      ]
    },
    {
      "cell_type": "code",
      "source": [
        "!pip install lightgbm\n",
        "!pip install catboost\n",
        "!pip install xgboost\n",
        "!pip install shap\n",
        "!pip install tqdm\n"
      ],
      "metadata": {
        "colab": {
          "base_uri": "https://localhost:8080/"
        },
        "id": "aGR7O5sGK4LG",
        "outputId": "1f149162-8bab-4082-e581-cdb4236d02d6",
        "collapsed": true
      },
      "execution_count": 2,
      "outputs": [
        {
          "output_type": "stream",
          "name": "stdout",
          "text": [
            "Requirement already satisfied: lightgbm in /usr/local/lib/python3.11/dist-packages (4.5.0)\n",
            "Requirement already satisfied: numpy>=1.17.0 in /usr/local/lib/python3.11/dist-packages (from lightgbm) (2.0.2)\n",
            "Requirement already satisfied: scipy in /usr/local/lib/python3.11/dist-packages (from lightgbm) (1.15.3)\n",
            "Requirement already satisfied: catboost in /usr/local/lib/python3.11/dist-packages (1.2.8)\n",
            "Requirement already satisfied: graphviz in /usr/local/lib/python3.11/dist-packages (from catboost) (0.21)\n",
            "Requirement already satisfied: matplotlib in /usr/local/lib/python3.11/dist-packages (from catboost) (3.10.0)\n",
            "Requirement already satisfied: numpy<3.0,>=1.16.0 in /usr/local/lib/python3.11/dist-packages (from catboost) (2.0.2)\n",
            "Requirement already satisfied: pandas>=0.24 in /usr/local/lib/python3.11/dist-packages (from catboost) (2.2.2)\n",
            "Requirement already satisfied: scipy in /usr/local/lib/python3.11/dist-packages (from catboost) (1.15.3)\n",
            "Requirement already satisfied: plotly in /usr/local/lib/python3.11/dist-packages (from catboost) (5.24.1)\n",
            "Requirement already satisfied: six in /usr/local/lib/python3.11/dist-packages (from catboost) (1.17.0)\n",
            "Requirement already satisfied: python-dateutil>=2.8.2 in /usr/local/lib/python3.11/dist-packages (from pandas>=0.24->catboost) (2.9.0.post0)\n",
            "Requirement already satisfied: pytz>=2020.1 in /usr/local/lib/python3.11/dist-packages (from pandas>=0.24->catboost) (2025.2)\n",
            "Requirement already satisfied: tzdata>=2022.7 in /usr/local/lib/python3.11/dist-packages (from pandas>=0.24->catboost) (2025.2)\n",
            "Requirement already satisfied: contourpy>=1.0.1 in /usr/local/lib/python3.11/dist-packages (from matplotlib->catboost) (1.3.2)\n",
            "Requirement already satisfied: cycler>=0.10 in /usr/local/lib/python3.11/dist-packages (from matplotlib->catboost) (0.12.1)\n",
            "Requirement already satisfied: fonttools>=4.22.0 in /usr/local/lib/python3.11/dist-packages (from matplotlib->catboost) (4.58.5)\n",
            "Requirement already satisfied: kiwisolver>=1.3.1 in /usr/local/lib/python3.11/dist-packages (from matplotlib->catboost) (1.4.8)\n",
            "Requirement already satisfied: packaging>=20.0 in /usr/local/lib/python3.11/dist-packages (from matplotlib->catboost) (24.2)\n",
            "Requirement already satisfied: pillow>=8 in /usr/local/lib/python3.11/dist-packages (from matplotlib->catboost) (11.2.1)\n",
            "Requirement already satisfied: pyparsing>=2.3.1 in /usr/local/lib/python3.11/dist-packages (from matplotlib->catboost) (3.2.3)\n",
            "Requirement already satisfied: tenacity>=6.2.0 in /usr/local/lib/python3.11/dist-packages (from plotly->catboost) (8.5.0)\n",
            "Requirement already satisfied: xgboost in /usr/local/lib/python3.11/dist-packages (2.1.4)\n",
            "Requirement already satisfied: numpy in /usr/local/lib/python3.11/dist-packages (from xgboost) (2.0.2)\n",
            "Requirement already satisfied: nvidia-nccl-cu12 in /usr/local/lib/python3.11/dist-packages (from xgboost) (2.21.5)\n",
            "Requirement already satisfied: scipy in /usr/local/lib/python3.11/dist-packages (from xgboost) (1.15.3)\n",
            "Requirement already satisfied: shap in /usr/local/lib/python3.11/dist-packages (0.48.0)\n",
            "Requirement already satisfied: numpy in /usr/local/lib/python3.11/dist-packages (from shap) (2.0.2)\n",
            "Requirement already satisfied: scipy in /usr/local/lib/python3.11/dist-packages (from shap) (1.15.3)\n",
            "Requirement already satisfied: scikit-learn in /usr/local/lib/python3.11/dist-packages (from shap) (1.6.1)\n",
            "Requirement already satisfied: pandas in /usr/local/lib/python3.11/dist-packages (from shap) (2.2.2)\n",
            "Requirement already satisfied: tqdm>=4.27.0 in /usr/local/lib/python3.11/dist-packages (from shap) (4.67.1)\n",
            "Requirement already satisfied: packaging>20.9 in /usr/local/lib/python3.11/dist-packages (from shap) (24.2)\n",
            "Requirement already satisfied: slicer==0.0.8 in /usr/local/lib/python3.11/dist-packages (from shap) (0.0.8)\n",
            "Requirement already satisfied: numba>=0.54 in /usr/local/lib/python3.11/dist-packages (from shap) (0.60.0)\n",
            "Requirement already satisfied: cloudpickle in /usr/local/lib/python3.11/dist-packages (from shap) (3.1.1)\n",
            "Requirement already satisfied: typing-extensions in /usr/local/lib/python3.11/dist-packages (from shap) (4.14.1)\n",
            "Requirement already satisfied: llvmlite<0.44,>=0.43.0dev0 in /usr/local/lib/python3.11/dist-packages (from numba>=0.54->shap) (0.43.0)\n",
            "Requirement already satisfied: python-dateutil>=2.8.2 in /usr/local/lib/python3.11/dist-packages (from pandas->shap) (2.9.0.post0)\n",
            "Requirement already satisfied: pytz>=2020.1 in /usr/local/lib/python3.11/dist-packages (from pandas->shap) (2025.2)\n",
            "Requirement already satisfied: tzdata>=2022.7 in /usr/local/lib/python3.11/dist-packages (from pandas->shap) (2025.2)\n",
            "Requirement already satisfied: joblib>=1.2.0 in /usr/local/lib/python3.11/dist-packages (from scikit-learn->shap) (1.5.1)\n",
            "Requirement already satisfied: threadpoolctl>=3.1.0 in /usr/local/lib/python3.11/dist-packages (from scikit-learn->shap) (3.6.0)\n",
            "Requirement already satisfied: six>=1.5 in /usr/local/lib/python3.11/dist-packages (from python-dateutil>=2.8.2->pandas->shap) (1.17.0)\n",
            "Requirement already satisfied: tqdm in /usr/local/lib/python3.11/dist-packages (4.67.1)\n"
          ]
        }
      ]
    },
    {
      "cell_type": "code",
      "execution_count": 3,
      "metadata": {
        "id": "uOj1IWweKH0B"
      },
      "outputs": [],
      "source": [
        "import os\n",
        "import random\n",
        "import pickle\n",
        "import gzip\n",
        "import gc\n",
        "import re\n",
        "import warnings\n",
        "warnings.filterwarnings(\"ignore\")  # 불필요한 경고 메시지 숨김\n",
        "\n",
        "import pandas as pd\n",
        "import numpy as np\n",
        "import seaborn as sns\n",
        "import matplotlib.pyplot as plt\n",
        "import matplotlib.font_manager as fm\n",
        "from matplotlib import rc\n",
        "from tqdm import tqdm, tqdm_notebook\n",
        "\n",
        "\n",
        "\n",
        "from sklearn.impute import SimpleImputer  # 결측값 처리\n",
        "from sklearn.preprocessing import StandardScaler, MinMaxScaler, OrdinalEncoder  # 데이터 스케일링 & 인코딩\n",
        "from sklearn.cluster import KMeans  # 군집화 (클러스터링)\n",
        "from lightgbm import LGBMClassifier  # LightGBM\n",
        "from catboost import CatBoostClassifier  # CatBoost\n",
        "from xgboost import XGBClassifier  # XGBoost\n",
        "from sklearn.ensemble import BaggingClassifier, GradientBoostingClassifier  # 앙상블 모델\n",
        "from sklearn.model_selection import cross_val_score, KFold  # 교차 검증 (K-Fold)\n",
        "from sklearn.metrics import accuracy_score  # 정확도 평가\n",
        "import shap  # SHAP 값 계산을 통한 피처 중요도 분석\n",
        "%matplotlib inline\n"
      ]
    },
    {
      "cell_type": "markdown",
      "metadata": {
        "id": "MhzSqlNBKH0C"
      },
      "source": [
        "### 데이터 설명\n",
        "- **패널(Panel) 데이터**\n",
        "  - userID: 패널 ID\n",
        "  - BIRTH: 생일(연도)\n",
        "  - GENDER: 1(남자) 2(여자)\n",
        "  - REGION: 거주지역\n",
        "  - TYPE: 패널 구분\n",
        "  - SQ1 ~ DQ7: 패널 가입 시 설문조사 데이터 상세정보 참가자에 한하여 제공\n",
        "- **설문(Survey) 데이터**\n",
        "  - surveyID: 설문 ID\n",
        "  - TITLE: 설문 제목\n",
        "  - IR: 난이도(응답가능성, 100이 최고)\n",
        "  - LOI: 설문하는데 걸리는 시간 (분단위)\n",
        "  - CATEGORIES: 설문 분류\n",
        "  - CPI: 패널 응답 리워드 포인트(1P~)\n",
        "- **응답(Response) 데이터**\n",
        "  - STATUS: 응답여부 (Target)\n",
        "  - (test 데이터의) ID: submission을 식별하기 위한 ID로 사용"
      ]
    },
    {
      "cell_type": "markdown",
      "metadata": {
        "id": "BL2zbDEJKH0C"
      },
      "source": [
        "# 01. Data Loading"
      ]
    },
    {
      "cell_type": "code",
      "execution_count": 4,
      "metadata": {
        "scrolled": true,
        "id": "tSw4asHUKH0C"
      },
      "outputs": [],
      "source": [
        "train = pd.read_csv('/content/drive/MyDrive/Colab Notebooks/2023KML/data/train.csv', encoding='cp949')\n",
        "test = pd.read_csv('/content/drive/MyDrive/Colab Notebooks/2023KML/data/test.csv', encoding='cp949')"
      ]
    },
    {
      "cell_type": "code",
      "source": [
        "train.shape"
      ],
      "metadata": {
        "colab": {
          "base_uri": "https://localhost:8080/"
        },
        "id": "cvcsrnkFLoKz",
        "outputId": "a438b14e-ecb0-4d06-f7e8-ab162cb9ffd9"
      },
      "execution_count": 5,
      "outputs": [
        {
          "output_type": "execute_result",
          "data": {
            "text/plain": [
              "(813650, 44)"
            ]
          },
          "metadata": {},
          "execution_count": 5
        }
      ]
    },
    {
      "cell_type": "code",
      "execution_count": 6,
      "metadata": {
        "colab": {
          "base_uri": "https://localhost:8080/"
        },
        "id": "m9JRpaT3KH0C",
        "outputId": "d01b40bb-865b-4af8-b272-408075190d6d"
      },
      "outputs": [
        {
          "output_type": "execute_result",
          "data": {
            "text/plain": [
              "Index(['userID', 'surveyID', 'BIRTH', 'GENDER', 'REGION', 'TYPE', 'SQ1', 'SQ2',\n",
              "       'SQ3', 'SQ4', 'SQ5', 'SQ6', 'SQ7', 'SQ8', 'A1', 'B1', 'B2', 'B3', 'B4',\n",
              "       'B5', 'C1', 'C2', 'C3', 'F1', 'F2', 'H1', 'T1', 'X1', 'X2', 'X3', 'X4',\n",
              "       'DQ1', 'DQ2', 'DQ3', 'DQ4', 'DQ5', 'DQ6', 'DQ7', 'TITLE', 'IR', 'LOI',\n",
              "       'CATEGORIES', 'CPI', 'STATUS'],\n",
              "      dtype='object')"
            ]
          },
          "metadata": {},
          "execution_count": 6
        }
      ],
      "source": [
        "original_features = train.columns\n",
        "original_features"
      ]
    },
    {
      "cell_type": "markdown",
      "metadata": {
        "id": "34D3LXqOKH0D"
      },
      "source": [
        "# 02. Data Preprocessing"
      ]
    },
    {
      "cell_type": "markdown",
      "metadata": {
        "id": "BWo8J3aCKH0D"
      },
      "source": [
        "##### Clean data & derive features"
      ]
    },
    {
      "cell_type": "code",
      "execution_count": 7,
      "metadata": {
        "scrolled": true,
        "id": "KATngB8GKH0D",
        "outputId": "d8dc3c09-daf6-430a-c1a5-3404691fa16d",
        "colab": {
          "base_uri": "https://localhost:8080/"
        }
      },
      "outputs": [
        {
          "output_type": "stream",
          "name": "stdout",
          "text": [
            "userID \t 15155 \t 0.0\n",
            "surveyID \t 1293 \t 0.0\n",
            "BIRTH \t 76 \t 0.0\n",
            "GENDER \t 2 \t 0.0\n",
            "REGION \t 17 \t 0.0\n",
            "TYPE \t 3 \t 0.0\n",
            "SQ1 \t 2 \t 0.0009770785964481042\n",
            "SQ2 \t 82 \t 0.0014293615190806859\n",
            "SQ3 \t 47 \t 0.09023044306520002\n",
            "SQ4 \t 52 \t 0.09058931973207153\n",
            "SQ5 \t 273 \t 0.14450930989983407\n",
            "SQ6 \t 30 \t 0.14490751551649972\n",
            "SQ7 \t 1234 \t 0.1802556381736619\n",
            "SQ8 \t 1774 \t 0.1831610643397038\n",
            "A1 \t 2768 \t 0.2083279051189086\n",
            "B1 \t 131 \t 0.21447796964296686\n",
            "B2 \t 120 \t 0.2426792847047256\n",
            "B3 \t 110 \t 0.24790757696798377\n",
            "B4 \t 715 \t 0.2602888219750507\n",
            "B5 \t 669 \t 0.26743317151109197\n",
            "TITLE \t 1286 \t 0.0\n",
            "IR \t 42 \t 0.0\n",
            "LOI \t 26 \t 0.0\n",
            "CPI \t 43 \t 0.0\n",
            "STATUS \t 2 \t 0.0\n"
          ]
        }
      ],
      "source": [
        "# 결측값 비율이 30% 이하인 column만 사용(사용할 피처들만 출력)\n",
        "features = []\n",
        "for f in train.columns:\n",
        "    if train[f].isnull().sum()/train.shape[0] <= 0.3:\n",
        "        print(f, '\\t', train[f].nunique(), '\\t', train[f].isnull().sum()/train.shape[0])\n",
        "        features.append(f)"
      ]
    },
    {
      "cell_type": "code",
      "execution_count": 8,
      "metadata": {
        "id": "pgohE92-KH0E"
      },
      "outputs": [],
      "source": [
        "# 불필요한 ID들은 제외. SQ1 ~ SQ3는 GENDER, BIRTH, REGION과 중복이어서 제외!\n",
        "# features.remove('userID')\n",
        "# features.remove('surveyID')\n",
        "features.remove('STATUS')\n",
        "features.remove('SQ1')\n",
        "features.remove('SQ2')\n",
        "features.remove('SQ3')"
      ]
    },
    {
      "cell_type": "markdown",
      "source": [
        "###  공백 및 오입력 처리: 프로파일 데이터 전처리\n",
        "\n",
        "- **SQ4**: 거주 주택 형태\n",
        "- **SQ5**: 최종학력\n",
        "- **SQ6**: 결혼여부\n",
        "- **SQ7**: 자녀 수\n",
        "- **SQ8**: 가족 수\n"
      ],
      "metadata": {
        "id": "sZ9Lhyxr6mZ0"
      }
    },
    {
      "cell_type": "code",
      "source": [
        "def clean_profile_column(col, valid_vals, default_val=99):\n",
        "    def cleaner(x):\n",
        "        x_str = str(x).strip().replace(',', '').split('.')[0]\n",
        "        return int(x_str) if x_str in valid_vals else default_val\n",
        "    return col.apply(cleaner)"
      ],
      "metadata": {
        "id": "gX_Tps9O6RnO"
      },
      "execution_count": 9,
      "outputs": []
    },
    {
      "cell_type": "code",
      "source": [
        "valid_sq4 = [str(i) for i in range(1, 7)]\n",
        "valid_sq5 = [str(i) for i in range(1, 5)]\n",
        "valid_sq6 = ['1', '2']\n",
        "valid_sq7 = [str(i) for i in range(1, 17)]\n",
        "\n",
        "for df in [train, test]:\n",
        "    df['SQ4'] = clean_profile_column(df['SQ4'], valid_sq4)\n",
        "    df['SQ5'] = clean_profile_column(df['SQ5'], valid_sq5)\n",
        "    df['SQ6'] = clean_profile_column(df['SQ6'], valid_sq6)\n",
        "    df['SQ7'] = clean_profile_column(df['SQ7'], valid_sq7)\n"
      ],
      "metadata": {
        "id": "3d_d5ROw6kCC"
      },
      "execution_count": 10,
      "outputs": []
    },
    {
      "cell_type": "markdown",
      "source": [
        "- 피처별 유효값 기준 정리 및 오입력 전처리"
      ],
      "metadata": {
        "id": "r_v6TelP8SZM"
      }
    },
    {
      "cell_type": "code",
      "execution_count": 11,
      "metadata": {
        "id": "Y2b9Q5ZfKH0E"
      },
      "outputs": [],
      "source": [
        "# 최근 구입/렌트 가전제품: 1~22/99 정상값\n",
        "values = pd.Series(range(1,23)).apply(lambda x: str(x)).tolist()\n",
        "def handle_profile(x):\n",
        "    if x in values:\n",
        "        return int(x)\n",
        "    else:\n",
        "        return 99\n",
        "\n",
        "train.A1 = train.A1.apply(handle_profile)\n",
        "test.A1 = test.A1.apply(handle_profile)"
      ]
    },
    {
      "cell_type": "code",
      "execution_count": 12,
      "metadata": {
        "id": "o-SJcXJIKH0E"
      },
      "outputs": [],
      "source": [
        "# 휴대폰 통신망 종류: 1~8/99 정상값\n",
        "def handle_profile(x):\n",
        "    if x in ['1']:\n",
        "        return 2\n",
        "    elif x in ['2', '3']:\n",
        "        return 3\n",
        "    elif x in ['4', '5', '6', '7']:\n",
        "        return 4\n",
        "    elif x in ['8']:\n",
        "        return 5\n",
        "    else:\n",
        "        return 99\n",
        "\n",
        "train.B1 = train.B1.apply(handle_profile)\n",
        "test.B1 = test.B1.apply(handle_profile)"
      ]
    },
    {
      "cell_type": "code",
      "execution_count": 13,
      "metadata": {
        "id": "-93V0Fd8KH0E"
      },
      "outputs": [],
      "source": [
        "# 가입한 이동통신사: 1~6/97 정상값\n",
        "def handle_profile(x):\n",
        "    if x in ['1', '2', '3', '4', '5', '6']:\n",
        "        return int(x)\n",
        "    else:\n",
        "        return 99\n",
        "\n",
        "train.B2 = train.B2.apply(handle_profile)\n",
        "test.B2 = test.B2.apply(handle_profile)"
      ]
    },
    {
      "cell_type": "code",
      "execution_count": 14,
      "metadata": {
        "id": "OxUtX90RKH0E"
      },
      "outputs": [],
      "source": [
        "# 휴대폰 브랜드: 1~7/97/99\n",
        "def handle_profile(x):\n",
        "    if x in ['1', '2', '3']:\n",
        "        return int(x)\n",
        "    elif x in ['1,', '2,', '3,']:\n",
        "        return int(x[0])\n",
        "    elif x in ['99', '99,']:\n",
        "        return 99\n",
        "    else:\n",
        "        return 4  # 기타 제조사\n",
        "\n",
        "train.B3 = train.B3.apply(handle_profile)\n",
        "test.B3 = test.B3.apply(handle_profile)"
      ]
    },
    {
      "cell_type": "code",
      "execution_count": 15,
      "metadata": {
        "id": "M5idSCInKH0F"
      },
      "outputs": [],
      "source": [
        "# 보유 스마트 기기: 1~7/97/99\n",
        "def handle_profile(x):\n",
        "    if x != x :\n",
        "        return 0\n",
        "    elif x in ['1', '2', '3', '4', '5', '6', '7' , '99', '97']:\n",
        "        return int(x)\n",
        "    else:\n",
        "        return 98\n",
        "\n",
        "train.B4 = train.B4.apply(handle_profile)\n",
        "test.B4 = test.B4.apply(handle_profile)"
      ]
    },
    {
      "cell_type": "code",
      "execution_count": 16,
      "metadata": {
        "id": "DOSXWCBIKH0F"
      },
      "outputs": [],
      "source": [
        "# 케이블TV: 1~10/97/99\n",
        "def handle_profile(x):\n",
        "    if x != x :\n",
        "        return 0\n",
        "    elif x in ['1', '2', '3', '4' ,'5', '6', '7', '8', '9', '10']:\n",
        "        return int(x)\n",
        "    elif x in ['1,', '2,', '3,', '4,' ,'5,', '6,', '7,', '8,', '9,', '10,']:\n",
        "        return int(x[0])\n",
        "    elif x in ['99', '99,']:\n",
        "        return 99\n",
        "    else:\n",
        "        return 4  # 기타 제조사\n",
        "\n",
        "train.B5 = train.B5.apply(handle_profile)\n",
        "test.B5 = test.B5.apply(handle_profile)"
      ]
    },
    {
      "cell_type": "code",
      "execution_count": 17,
      "metadata": {
        "id": "gGVxiNk4KH0F"
      },
      "outputs": [],
      "source": [
        "def handle_profile(x):\n",
        "    if x in ['1', '2', '3', '4', '5', '6', '7', '8', '9', '10', '11', '12', '13', '14']:\n",
        "        return int(x)\n",
        "    elif x in ['1,', '2,', '3,', '4,', '5,', '6,', '7,', '8,', '9,', '10,', '11,', '12,', '13,', '14,']:\n",
        "        return int(x[0])\n",
        "    else:\n",
        "        return 99\n",
        "\n",
        "train.C1 = train.C1.apply(handle_profile)\n",
        "test.C1 = test.C1.apply(handle_profile)"
      ]
    },
    {
      "cell_type": "code",
      "execution_count": 18,
      "metadata": {
        "id": "uRYyNc6yKH0F"
      },
      "outputs": [],
      "source": [
        "def handle_profile(x):\n",
        "    if x in ['1', '2', '3', '4', '5', '6', '7', '8', '9', '10', '11', '12', '13', '14']:\n",
        "        return int(x)\n",
        "    elif x in ['1,', '2,', '3,', '4,', '5,', '6,', '7,', '8,', '9,', '10,', '11,', '12,', '13,', '14,']:\n",
        "        return int(x[0])\n",
        "    else:\n",
        "        return 99\n",
        "\n",
        "train.C2 = train.C2.apply(handle_profile)\n",
        "test.C2 = test.C2.apply(handle_profile)"
      ]
    },
    {
      "cell_type": "code",
      "execution_count": 19,
      "metadata": {
        "id": "IwaMdQNIKH0F"
      },
      "outputs": [],
      "source": [
        "def handle_profile(x):\n",
        "    if x in ['1', '2', '3', '4', '5', '6', '7', '8', '9', '10']:\n",
        "        return int(x)\n",
        "    elif x in ['1,', '2,', '3,', '4,', '5,', '6,', '7,', '8,', '9,', '10,']:\n",
        "        return int(x[0])\n",
        "    else:\n",
        "        return 99\n",
        "\n",
        "train.C3 = train.C3.apply(handle_profile)\n",
        "test.C3 = test.C3.apply(handle_profile)"
      ]
    },
    {
      "cell_type": "markdown",
      "metadata": {
        "id": "sGLIp31qKH0F"
      },
      "source": [
        "### **< train_TITLE >** 피처"
      ]
    },
    {
      "cell_type": "code",
      "execution_count": 20,
      "metadata": {
        "id": "vFwo7XBhKH0F"
      },
      "outputs": [],
      "source": [
        "train_TITLE = train.copy()\n",
        "test_TITLE = test.copy()"
      ]
    },
    {
      "cell_type": "markdown",
      "metadata": {
        "id": "nP6cu3wuKH0F"
      },
      "source": [
        "# 03. 피처추가 Feature Generation(FE_GN)"
      ]
    },
    {
      "cell_type": "markdown",
      "metadata": {
        "id": "efzCcu66KH0F"
      },
      "source": [
        "#### 01. 'panel_response_rate' : 응답률(RESRATE) 구간화"
      ]
    },
    {
      "cell_type": "code",
      "execution_count": 21,
      "metadata": {
        "id": "c46u15RhKH0F"
      },
      "outputs": [],
      "source": [
        "# 01. [panel_response_rate] : 응답률(RESRATE) 구간화\n",
        "\n",
        "res_freq = train.query('STATUS == 1').groupby('userID')['userID'].agg([('FREQ',np.size)]).reset_index()\n",
        "send_freq = train.groupby('userID')['userID'].agg([('SEND',np.size)]).reset_index()\n",
        "\n",
        "train = train.merge(res_freq, how='left').merge(send_freq, how='left')\n",
        "train['RESRATE'] = train['FREQ'] / train['SEND']\n",
        "del train['FREQ'], train['SEND']\n",
        "test = pd.merge(test, train.drop_duplicates(subset=['userID'])[['userID', 'RESRATE']], how='left')\n",
        "test['RESRATE'] = test['RESRATE'].fillna(0)\n",
        "\n",
        "#features.extend(['RESRATE'])    --> 피처 추가는 round된 버전으로!\n",
        "\n",
        "# 구간화\n",
        "train['panel_response_rate'] = round(train['RESRATE'], 3)\n",
        "test['panel_response_rate'] = round(test['RESRATE'], 3)\n",
        "\n",
        "features.extend(['panel_response_rate'])\n"
      ]
    },
    {
      "cell_type": "code",
      "execution_count": 22,
      "metadata": {
        "id": "Bfg2Gg63KH0F",
        "outputId": "dfce07a4-ffbf-4f6e-ce65-75cf2e567a51",
        "colab": {
          "base_uri": "https://localhost:8080/"
        }
      },
      "outputs": [
        {
          "output_type": "stream",
          "name": "stdout",
          "text": [
            "2441\n",
            "933\n"
          ]
        }
      ],
      "source": [
        "print(train['RESRATE'].nunique())\n",
        "print(train['panel_response_rate'].nunique())"
      ]
    },
    {
      "cell_type": "markdown",
      "metadata": {
        "id": "W07tZ2-2KH0J"
      },
      "source": [
        "#### 02. 'survey_response_rate'"
      ]
    },
    {
      "cell_type": "code",
      "execution_count": 23,
      "metadata": {
        "id": "y2yWDZgtKH0J"
      },
      "outputs": [],
      "source": [
        "# 설문별 응답률 (RESRATE_S) 생성\n",
        "res_freq = train.query('STATUS == 1').groupby('surveyID')['surveyID'].agg([('FREQ',np.size)]).reset_index()\n",
        "send_freq = train.groupby('surveyID')['surveyID'].agg([('SEND',np.size)]).reset_index()\n",
        "\n",
        "train = train.merge(res_freq, how='left').merge(send_freq, how='left')\n",
        "train['RESRATE_S'] = train['FREQ'] / train['SEND']\n",
        "del train['FREQ'], train['SEND']\n",
        "\n",
        "test = pd.merge(test, train.drop_duplicates(subset=['surveyID'])[['surveyID', 'RESRATE_S']], how='left')\n",
        "test['RESRATE_S'] = test['RESRATE_S'].fillna(0)\n",
        "\n",
        "features.extend(['RESRATE_S'])\n",
        "\n",
        "# RESRATE_S 구간화 <- (예.0.3389와 0.3888은 같은 값으로 취급하는 것이 합리적임)\n",
        "train['survey_response_rate'] = round(train['RESRATE_S'],3)\n",
        "test['survey_response_rate'] = round(test['RESRATE_S'],3)\n",
        "\n",
        "features.extend(['survey_response_rate'])\n"
      ]
    },
    {
      "cell_type": "markdown",
      "metadata": {
        "id": "7kckP351KH0F"
      },
      "source": [
        "#### 03. 'type_response_rate' : 타입별 응답률"
      ]
    },
    {
      "cell_type": "code",
      "execution_count": 24,
      "metadata": {
        "id": "MANcHhf4KH0F"
      },
      "outputs": [],
      "source": [
        "# 03. ['type_response_rate'] : 타입별 응답률\n",
        "\n",
        "response = train.groupby('TYPE')['STATUS'].agg([('type_response_rate', lambda x: np.mean(x))]).reset_index()\n",
        "train = train.merge(response, how='left', on='TYPE')\n",
        "test = test.merge(response, how='left', on='TYPE')\n",
        "\n",
        "features.extend(['type_response_rate'])\n"
      ]
    },
    {
      "cell_type": "markdown",
      "metadata": {
        "id": "zthrneG2KH0F"
      },
      "source": [
        "#### 04. 'reward_per_time'"
      ]
    },
    {
      "cell_type": "code",
      "execution_count": 25,
      "metadata": {
        "id": "VqDnEl8HKH0F"
      },
      "outputs": [],
      "source": [
        "# 04. ['reward_per_time']: 단위 시간당 리워드\n",
        "\n",
        "train['reward_per_time'] = train['CPI'] / train['LOI']\n",
        "test['reward_per_time'] = test['CPI'] / test['LOI']\n",
        "features.extend(['reward_per_time'])\n"
      ]
    },
    {
      "cell_type": "markdown",
      "metadata": {
        "id": "m1iYVhmrKH0F"
      },
      "source": [
        "#### 05.'neg_scaled_time_difficulty'"
      ]
    },
    {
      "cell_type": "code",
      "execution_count": 26,
      "metadata": {
        "id": "AiCVc_rxKH0G"
      },
      "outputs": [],
      "source": [
        "# 05. ['neg_scaled_time_difficulty']: -(scaled IR + LOI) feature\n",
        "\n",
        "# IR 피처에 대한 Min-Max Scaling (범위: 1~35)\n",
        "scaler = MinMaxScaler(feature_range=(1, 35))  # LOI 범위에 맞춰 스케일링\n",
        "train['IR_scaled'] = scaler.fit_transform(train['IR'].values.reshape(-1, 1))\n",
        "test['IR_scaled'] = scaler.fit_transform(test['IR'].values.reshape(-1, 1))\n",
        "\n",
        "# IR_scaled와 LOI의 합에 음수 부호를 붙여 새로운 피처 생성\n",
        "train['neg_scaled_time_difficulty'] = -(train['IR_scaled'] + train['LOI'])\n",
        "test['neg_scaled_time_difficulty'] = -(test['IR_scaled'] + test['LOI'])\n",
        "\n",
        "# 피처 리스트에 추가\n",
        "features.extend(['neg_scaled_time_difficulty'])\n"
      ]
    },
    {
      "cell_type": "markdown",
      "metadata": {
        "id": "45iDPEZPKH0G"
      },
      "source": [
        "#### 06. 'target_region', 'target_type_general', 'target_type_consumer'"
      ]
    },
    {
      "cell_type": "code",
      "execution_count": 27,
      "metadata": {
        "id": "yWCCyilAKH0G"
      },
      "outputs": [],
      "source": [
        "# 06. ['target_region', 'target_type_general', 'target_type_consumer']\n",
        "\n",
        "# 키워드 매핑\n",
        "keywords = {\n",
        "    'target_region': ('해외', 'overseas'),\n",
        "    'target_type_general': ('일반인', 'general'),\n",
        "    'target_type_consumer': ('소비자', 'consumer')\n",
        "}\n",
        "\n",
        "# train, test 각각 처리\n",
        "for df, title_df in zip([train, test], [train_TITLE, test_TITLE]):\n",
        "    for col, (keyword, label) in keywords.items():\n",
        "        df[col] = np.where(title_df['TITLE'].str.contains(keyword), label, 'other')\n",
        "\n",
        "# 피처 리스트 추가\n",
        "features.extend(['target_region', 'target_type_general', 'target_type_consumer'])\n",
        "\n"
      ]
    },
    {
      "cell_type": "markdown",
      "metadata": {
        "id": "XmiLM8IjKH0J"
      },
      "source": [
        "#### 07. 'Points_earned_bins'"
      ]
    },
    {
      "cell_type": "code",
      "execution_count": 28,
      "metadata": {
        "id": "zrhHWqErKH0J"
      },
      "outputs": [],
      "source": [
        "# 07. '[Points_earned_bins'] : 패널 ID 별 획득 누적 포인트\n",
        "\n",
        "#Points_earned = pd.DataFrame(train.query('STATUS==1').groupby('userID')['CPI'].agg([('Points_earned',np.sum)])).reset_index()\n",
        "Points_earned = pd.DataFrame(train.query('STATUS==1').groupby('userID')['CPI'].agg([('Points_earned',np.sum)])).reset_index()\n",
        "\n",
        "# 패널 ID 별 획득 평균 포인트\n",
        "Points_earned_mean = pd.DataFrame(train.query('STATUS==1').groupby('userID')['CPI'].agg([('Points_earned_mean',np.mean)])).reset_index()\n",
        "\n",
        "train = train.merge(Points_earned, how='left')\n",
        "train = train.merge(Points_earned_mean, how='left')\n",
        "train['Points_earned'].fillna(0, inplace = True)\n",
        "train['Points_earned_mean'].fillna(0, inplace = True)\n",
        "\n",
        "test = test.merge(Points_earned, how='left')\n",
        "test = test.merge(Points_earned_mean, how='left')\n",
        "test['Points_earned'].fillna(0, inplace = True)\n",
        "test['Points_earned_mean'].fillna(0, inplace = True)\n",
        "\n",
        "#features.extend(['Points_earned_mean'])\n",
        "\n",
        "'''구간화'''\n",
        "# 0부터 1170까지는 20씩, 1200에서 2000까지는 하나의 구간으로 설정\n",
        "bin_edges = list(range(0, 1200, 20)) + [2000]\n",
        "\n",
        "# 구간에 대한 라벨 설정\n",
        "bin_labels = [f'{i}-{i+19}' for i in range(0, 1180, 20)] + ['1200-2000']\n",
        "\n",
        "# 'Points_earned_mean' 열을 구간화하여 새로운 열로 추가\n",
        "train['Points_earned_bins'] = pd.cut(train['Points_earned_mean'], bins=bin_edges, labels=bin_labels, include_lowest=True)\n",
        "test['Points_earned_bins'] = pd.cut(test['Points_earned_mean'], bins=bin_edges, labels=bin_labels, include_lowest=True)\n",
        "\n",
        "features.append('Points_earned_bins')"
      ]
    },
    {
      "cell_type": "markdown",
      "metadata": {
        "id": "Ajx7MFdmKH0J"
      },
      "source": [
        "#### 08. 'Status_sum_log'"
      ]
    },
    {
      "cell_type": "code",
      "execution_count": 29,
      "metadata": {
        "id": "AymK_h-pKH0J"
      },
      "outputs": [],
      "source": [
        "# 08. 응답 횟수(참여 횟수) 계산\n",
        "Status_sum = train.groupby('userID')['STATUS'].sum()\n",
        "\n",
        "# 데이터에 병합\n",
        "train = train.merge(Status_sum.rename('Status_sum'), on='userID', how='left')\n",
        "test = test.merge(Status_sum.rename('Status_sum'), on='userID', how='left')\n",
        "\n",
        "# 로그 변환 후 새로운 피처 생성\n",
        "train['Status_sum_log'] = np.log(train['Status_sum'] + 1)\n",
        "test['Status_sum_log'] = np.log(test['Status_sum'] + 1)\n",
        "\n",
        "# 피처 리스트에 추가\n",
        "features.extend(['Status_sum_log'])\n"
      ]
    },
    {
      "cell_type": "code",
      "source": [
        "train.columns"
      ],
      "metadata": {
        "colab": {
          "base_uri": "https://localhost:8080/"
        },
        "id": "n8kEuXsqvLRZ",
        "outputId": "b5c056c2-09d0-4a08-e07e-10021da66120"
      },
      "execution_count": 30,
      "outputs": [
        {
          "output_type": "execute_result",
          "data": {
            "text/plain": [
              "Index(['userID', 'surveyID', 'BIRTH', 'GENDER', 'REGION', 'TYPE', 'SQ1', 'SQ2',\n",
              "       'SQ3', 'SQ4', 'SQ5', 'SQ6', 'SQ7', 'SQ8', 'A1', 'B1', 'B2', 'B3', 'B4',\n",
              "       'B5', 'C1', 'C2', 'C3', 'F1', 'F2', 'H1', 'T1', 'X1', 'X2', 'X3', 'X4',\n",
              "       'DQ1', 'DQ2', 'DQ3', 'DQ4', 'DQ5', 'DQ6', 'DQ7', 'TITLE', 'IR', 'LOI',\n",
              "       'CATEGORIES', 'CPI', 'STATUS', 'RESRATE', 'panel_response_rate',\n",
              "       'RESRATE_S', 'survey_response_rate', 'type_response_rate',\n",
              "       'reward_per_time', 'IR_scaled', 'neg_scaled_time_difficulty',\n",
              "       'target_region', 'target_type_general', 'target_type_consumer',\n",
              "       'Points_earned', 'Points_earned_mean', 'Points_earned_bins',\n",
              "       'Status_sum', 'Status_sum_log'],\n",
              "      dtype='object')"
            ]
          },
          "metadata": {},
          "execution_count": 30
        }
      ]
    },
    {
      "cell_type": "code",
      "execution_count": 31,
      "metadata": {
        "id": "c-Zc6poRKH0J"
      },
      "outputs": [],
      "source": [
        "# Survey 제목에서 유용한 정보 추출\n",
        "word_counts = {}\n",
        "def count_word(x): # 응답한 서베이 제목에서 한글 단어만 분리하고 빈도 계산\n",
        "    if x['STATUS'] == 1:\n",
        "        for w in re.sub(r'[^ ㄱ-ㅣ가-힣]', '', x['TITLE']).split():\n",
        "            word_counts[w] = word_counts.get(w, 0) + 1\n",
        "def score_word(x): # 빈도의 합으로 제목을 Encoding\n",
        "    score = 0\n",
        "    for w in re.sub(r'[^ ㄱ-ㅣ가-힣]', '', x['TITLE']).split():\n",
        "        score += word_counts.get(w, 0)\n",
        "    return score\n",
        "\n",
        "train.apply(count_word, axis=1)\n",
        "train.TITLE = train.apply(score_word, axis=1)\n",
        "test.TITLE = test.apply(score_word, axis=1)"
      ]
    },
    {
      "cell_type": "markdown",
      "metadata": {
        "id": "rmRpn5FeKH0J"
      },
      "source": [
        "# 04. 데이터 필터링\n"
      ]
    },
    {
      "cell_type": "code",
      "execution_count": 32,
      "metadata": {
        "scrolled": true,
        "id": "hMmnKYeXKH0J",
        "outputId": "e73997cc-64e0-43a1-cee4-64d678996142",
        "colab": {
          "base_uri": "https://localhost:8080/"
        }
      },
      "outputs": [
        {
          "output_type": "execute_result",
          "data": {
            "text/plain": [
              "4"
            ]
          },
          "metadata": {},
          "execution_count": 32
        }
      ],
      "source": [
        "#데이터 필터링\n",
        "X_train = train[features]\n",
        "X_test = test[features]\n",
        "y_train = train['STATUS']\n",
        "\n",
        "# submission을 만들 때 사용하기 위해 ID 저정\n",
        "ID_test = test.ID\n",
        "\n",
        "# 메모리 낭비를 막기위해 불필요한 데이터 삭제\n",
        "del train, test\n",
        "gc.collect()"
      ]
    },
    {
      "cell_type": "markdown",
      "metadata": {
        "id": "mYtEs0pjKH0K"
      },
      "source": [
        "# 05. Feature Engineering"
      ]
    },
    {
      "cell_type": "code",
      "execution_count": 33,
      "metadata": {
        "id": "snER1enMKH0K"
      },
      "outputs": [],
      "source": [
        "def separate_features(df):\n",
        "    num_features = df.select_dtypes(include=['int', 'float']).columns.tolist()\n",
        "    cat_features = df.select_dtypes(exclude=['int', 'float']).columns.tolist()\n",
        "    return num_features, cat_features\n",
        "\n",
        "\n",
        "num_features, cat_features = separate_features(X_train)"
      ]
    },
    {
      "cell_type": "code",
      "execution_count": 34,
      "metadata": {
        "id": "fBA0haGYKH0K",
        "outputId": "1f0e3611-42fa-4a71-a870-06778a101ba3",
        "colab": {
          "base_uri": "https://localhost:8080/"
        }
      },
      "outputs": [
        {
          "output_type": "stream",
          "name": "stdout",
          "text": [
            "24\n",
            "8\n"
          ]
        }
      ],
      "source": [
        "print(len(num_features))\n",
        "print(len(cat_features))"
      ]
    },
    {
      "cell_type": "markdown",
      "metadata": {
        "id": "nJTjQlElKH0K"
      },
      "source": [
        "##### 1) Impute missing values"
      ]
    },
    {
      "cell_type": "code",
      "execution_count": 35,
      "metadata": {
        "id": "oBEMzpL0KH0K"
      },
      "outputs": [],
      "source": [
        "# 범주형이냐 수치형이냐에 따라 다르게 처리\n",
        "if len(num_features) > 0:\n",
        "    imp = SimpleImputer(strategy='mean')\n",
        "    X_train[num_features] = imp.fit_transform(X_train[num_features])\n",
        "    X_test[num_features] = imp.transform(X_test[num_features])\n",
        "if len(cat_features) > 0:\n",
        "    imp = SimpleImputer(strategy=\"most_frequent\")\n",
        "    X_train[cat_features] = imp.fit_transform(X_train[cat_features])\n",
        "    X_test[cat_features] = imp.transform(X_test[cat_features])\n",
        "\n",
        "\n",
        "X_train['GENDER'] = X_train['GENDER'].astype(int)\n",
        "X_train['REGION'] = X_train['REGION'].astype(int)\n",
        "X_test['GENDER'] = X_test['GENDER'].astype(int)\n",
        "X_test['REGION'] = X_test['REGION'].astype(int)"
      ]
    },
    {
      "cell_type": "markdown",
      "metadata": {
        "id": "CiASvh0XKH0K"
      },
      "source": [
        "##### 2) Transform features (Feature Scaling)"
      ]
    },
    {
      "cell_type": "code",
      "execution_count": 36,
      "metadata": {
        "id": "_ylRELYEKH0K"
      },
      "outputs": [],
      "source": [
        "scaler = StandardScaler()\n",
        "X_train[num_features] = scaler.fit_transform(X_train[num_features])\n",
        "X_test[num_features] = scaler.transform(X_test[num_features])"
      ]
    },
    {
      "cell_type": "markdown",
      "metadata": {
        "id": "v3k_irTXKH0K"
      },
      "source": [
        "##### 3) Encode categorical features"
      ]
    },
    {
      "cell_type": "code",
      "source": [
        "X_train[cat_features] = X_train[cat_features].astype(str)\n",
        "X_test[cat_features] = X_test[cat_features].astype(str)"
      ],
      "metadata": {
        "id": "-skzO7Ya_BOB"
      },
      "execution_count": 37,
      "outputs": []
    },
    {
      "cell_type": "code",
      "execution_count": 38,
      "metadata": {
        "id": "Aa6jts8yKH0K"
      },
      "outputs": [],
      "source": [
        "Oe = OrdinalEncoder(handle_unknown='use_encoded_value', unknown_value=-1, dtype=int)\n",
        "X_train[cat_features] = Oe.fit_transform(X_train[cat_features])\n",
        "X_test[cat_features] = Oe.transform(X_test[cat_features])"
      ]
    },
    {
      "cell_type": "code",
      "execution_count": 39,
      "metadata": {
        "scrolled": true,
        "id": "Sh28ipdOKH0K",
        "outputId": "40e36093-cf91-4f17-ac1a-da8d75c5187a",
        "colab": {
          "base_uri": "https://localhost:8080/"
        }
      },
      "outputs": [
        {
          "output_type": "stream",
          "name": "stdout",
          "text": [
            "(813650, 32)\n",
            "(541867, 32)\n",
            "32\n",
            "['userID', 'surveyID', 'BIRTH', 'GENDER', 'REGION', 'TYPE', 'SQ4', 'SQ5', 'SQ6', 'SQ7', 'SQ8', 'A1', 'B1', 'B2', 'B3', 'B4', 'B5', 'TITLE', 'IR', 'LOI', 'CPI', 'panel_response_rate', 'RESRATE_S', 'survey_response_rate', 'type_response_rate', 'reward_per_time', 'neg_scaled_time_difficulty', 'target_region', 'target_type_general', 'target_type_consumer', 'Points_earned_bins', 'Status_sum_log']\n"
          ]
        }
      ],
      "source": [
        "# SHAP 이전 컬럼 개수\n",
        "print(X_train.shape)\n",
        "print(X_test.shape)\n",
        "print(len(features))\n",
        "print(features)"
      ]
    },
    {
      "cell_type": "markdown",
      "metadata": {
        "id": "Ch3-CGltKH0K"
      },
      "source": [
        "<font color=\"#CC3D3D\"><p>\n",
        "### **Feature selection using SHAP**"
      ]
    },
    {
      "cell_type": "code",
      "execution_count": 40,
      "metadata": {
        "id": "SiGgKgDZKH0K",
        "outputId": "3bb84d1b-98d1-4018-f7d2-c3d199038cef",
        "colab": {
          "base_uri": "https://localhost:8080/",
          "height": 1000
        }
      },
      "outputs": [
        {
          "output_type": "stream",
          "name": "stdout",
          "text": [
            "[LightGBM] [Info] Number of positive: 316565, number of negative: 497085\n",
            "[LightGBM] [Info] Auto-choosing row-wise multi-threading, the overhead of testing was 0.040887 seconds.\n",
            "You can set `force_row_wise=true` to remove the overhead.\n",
            "And if memory is not enough, you can set `force_col_wise=true`.\n",
            "[LightGBM] [Info] Total Bins 2220\n",
            "[LightGBM] [Info] Number of data points in the train set: 813650, number of used features: 32\n",
            "[LightGBM] [Info] [binary:BoostFromScore]: pavg=0.389068 -> initscore=-0.451232\n",
            "[LightGBM] [Info] Start training from score -0.451232\n"
          ]
        },
        {
          "output_type": "display_data",
          "data": {
            "text/plain": [
              "<Figure size 800x950 with 1 Axes>"
            ],
            "image/png": "[encoded data removed]"
          },
          "metadata": {}
        },
        {
          "output_type": "display_data",
          "data": {
            "text/plain": [
              "                   column_name  shap_importance\n",
              "30          Points_earned_bins         2.169876\n",
              "31              Status_sum_log         1.299483\n",
              "21         panel_response_rate         1.280240\n",
              "22                   RESRATE_S         0.274098\n",
              "23        survey_response_rate         0.246761\n",
              "27               target_region         0.080897\n",
              "17                       TITLE         0.062699\n",
              "5                         TYPE         0.051658\n",
              "1                     surveyID         0.048805\n",
              "24          type_response_rate         0.040008\n",
              "20                         CPI         0.028934\n",
              "26  neg_scaled_time_difficulty         0.027193\n",
              "18                          IR         0.022751\n",
              "0                       userID         0.020102\n",
              "4                       REGION         0.019055\n",
              "25             reward_per_time         0.018005\n",
              "29        target_type_consumer         0.016685\n",
              "3                       GENDER         0.015099\n",
              "19                         LOI         0.013558\n",
              "2                        BIRTH         0.009662\n",
              "9                          SQ7         0.004314\n",
              "28         target_type_general         0.003368\n",
              "11                          A1         0.002695\n",
              "8                          SQ6         0.001435\n",
              "16                          B5         0.001222\n",
              "10                         SQ8         0.001144\n",
              "15                          B4         0.001095\n",
              "6                          SQ4         0.000320\n",
              "14                          B3         0.000255\n",
              "12                          B1         0.000202\n",
              "7                          SQ5         0.000146\n",
              "13                          B2         0.000077"
            ],
            "text/html": [
              "\n",
              "  <div id=\"df-b59e5617-9fa7-4eb7-9774-2f9ba5b8e321\" class=\"colab-df-container\">\n",
              "    <div>\n",
              "<style scoped>\n",
              "    .dataframe tbody tr th:only-of-type {\n",
              "        vertical-align: middle;\n",
              "    }\n",
              "\n",
              "    .dataframe tbody tr th {\n",
              "        vertical-align: top;\n",
              "    }\n",
              "\n",
              "    .dataframe thead th {\n",
              "        text-align: right;\n",
              "    }\n",
              "</style>\n",
              "<table border=\"1\" class=\"dataframe\">\n",
              "  <thead>\n",
              "    <tr style=\"text-align: right;\">\n",
              "      <th></th>\n",
              "      <th>column_name</th>\n",
              "      <th>shap_importance</th>\n",
              "    </tr>\n",
              "  </thead>\n",
              "  <tbody>\n",
              "    <tr>\n",
              "      <th>30</th>\n",
              "      <td>Points_earned_bins</td>\n",
              "      <td>2.169876</td>\n",
              "    </tr>\n",
              "    <tr>\n",
              "      <th>31</th>\n",
              "      <td>Status_sum_log</td>\n",
              "      <td>1.299483</td>\n",
              "    </tr>\n",
              "    <tr>\n",
              "      <th>21</th>\n",
              "      <td>panel_response_rate</td>\n",
              "      <td>1.280240</td>\n",
              "    </tr>\n",
              "    <tr>\n",
              "      <th>22</th>\n",
              "      <td>RESRATE_S</td>\n",
              "      <td>0.274098</td>\n",
              "    </tr>\n",
              "    <tr>\n",
              "      <th>23</th>\n",
              "      <td>survey_response_rate</td>\n",
              "      <td>0.246761</td>\n",
              "    </tr>\n",
              "    <tr>\n",
              "      <th>27</th>\n",
              "      <td>target_region</td>\n",
              "      <td>0.080897</td>\n",
              "    </tr>\n",
              "    <tr>\n",
              "      <th>17</th>\n",
              "      <td>TITLE</td>\n",
              "      <td>0.062699</td>\n",
              "    </tr>\n",
              "    <tr>\n",
              "      <th>5</th>\n",
              "      <td>TYPE</td>\n",
              "      <td>0.051658</td>\n",
              "    </tr>\n",
              "    <tr>\n",
              "      <th>1</th>\n",
              "      <td>surveyID</td>\n",
              "      <td>0.048805</td>\n",
              "    </tr>\n",
              "    <tr>\n",
              "      <th>24</th>\n",
              "      <td>type_response_rate</td>\n",
              "      <td>0.040008</td>\n",
              "    </tr>\n",
              "    <tr>\n",
              "      <th>20</th>\n",
              "      <td>CPI</td>\n",
              "      <td>0.028934</td>\n",
              "    </tr>\n",
              "    <tr>\n",
              "      <th>26</th>\n",
              "      <td>neg_scaled_time_difficulty</td>\n",
              "      <td>0.027193</td>\n",
              "    </tr>\n",
              "    <tr>\n",
              "      <th>18</th>\n",
              "      <td>IR</td>\n",
              "      <td>0.022751</td>\n",
              "    </tr>\n",
              "    <tr>\n",
              "      <th>0</th>\n",
              "      <td>userID</td>\n",
              "      <td>0.020102</td>\n",
              "    </tr>\n",
              "    <tr>\n",
              "      <th>4</th>\n",
              "      <td>REGION</td>\n",
              "      <td>0.019055</td>\n",
              "    </tr>\n",
              "    <tr>\n",
              "      <th>25</th>\n",
              "      <td>reward_per_time</td>\n",
              "      <td>0.018005</td>\n",
              "    </tr>\n",
              "    <tr>\n",
              "      <th>29</th>\n",
              "      <td>target_type_consumer</td>\n",
              "      <td>0.016685</td>\n",
              "    </tr>\n",
              "    <tr>\n",
              "      <th>3</th>\n",
              "      <td>GENDER</td>\n",
              "      <td>0.015099</td>\n",
              "    </tr>\n",
              "    <tr>\n",
              "      <th>19</th>\n",
              "      <td>LOI</td>\n",
              "      <td>0.013558</td>\n",
              "    </tr>\n",
              "    <tr>\n",
              "      <th>2</th>\n",
              "      <td>BIRTH</td>\n",
              "      <td>0.009662</td>\n",
              "    </tr>\n",
              "    <tr>\n",
              "      <th>9</th>\n",
              "      <td>SQ7</td>\n",
              "      <td>0.004314</td>\n",
              "    </tr>\n",
              "    <tr>\n",
              "      <th>28</th>\n",
              "      <td>target_type_general</td>\n",
              "      <td>0.003368</td>\n",
              "    </tr>\n",
              "    <tr>\n",
              "      <th>11</th>\n",
              "      <td>A1</td>\n",
              "      <td>0.002695</td>\n",
              "    </tr>\n",
              "    <tr>\n",
              "      <th>8</th>\n",
              "      <td>SQ6</td>\n",
              "      <td>0.001435</td>\n",
              "    </tr>\n",
              "    <tr>\n",
              "      <th>16</th>\n",
              "      <td>B5</td>\n",
              "      <td>0.001222</td>\n",
              "    </tr>\n",
              "    <tr>\n",
              "      <th>10</th>\n",
              "      <td>SQ8</td>\n",
              "      <td>0.001144</td>\n",
              "    </tr>\n",
              "    <tr>\n",
              "      <th>15</th>\n",
              "      <td>B4</td>\n",
              "      <td>0.001095</td>\n",
              "    </tr>\n",
              "    <tr>\n",
              "      <th>6</th>\n",
              "      <td>SQ4</td>\n",
              "      <td>0.000320</td>\n",
              "    </tr>\n",
              "    <tr>\n",
              "      <th>14</th>\n",
              "      <td>B3</td>\n",
              "      <td>0.000255</td>\n",
              "    </tr>\n",
              "    <tr>\n",
              "      <th>12</th>\n",
              "      <td>B1</td>\n",
              "      <td>0.000202</td>\n",
              "    </tr>\n",
              "    <tr>\n",
              "      <th>7</th>\n",
              "      <td>SQ5</td>\n",
              "      <td>0.000146</td>\n",
              "    </tr>\n",
              "    <tr>\n",
              "      <th>13</th>\n",
              "      <td>B2</td>\n",
              "      <td>0.000077</td>\n",
              "    </tr>\n",
              "  </tbody>\n",
              "</table>\n",
              "</div>\n",
              "    <div class=\"colab-df-buttons\">\n",
              "\n",
              "  <div class=\"colab-df-container\">\n",
              "    <button class=\"colab-df-convert\" onclick=\"convertToInteractive('df-b59e5617-9fa7-4eb7-9774-2f9ba5b8e321')\"\n",
              "            title=\"Convert this dataframe to an interactive table.\"\n",
              "            style=\"display:none;\">\n",
              "\n",
              "  <svg xmlns=\"http://www.w3.org/2000/svg\" height=\"24px\" viewBox=\"0 -960 960 960\">\n",
              "    <path d=\"M120-120v-720h720v720H120Zm60-500h600v-160H180v160Zm220 220h160v-160H400v160Zm0 220h160v-160H400v160ZM180-400h160v-160H180v160Zm440 0h160v-160H620v160ZM180-180h160v-160H180v160Zm440 0h160v-160H620v160Z\"/>\n",
              "  </svg>\n",
              "    </button>\n",
              "\n",
              "  <style>\n",
              "    .colab-df-container {\n",
              "      display:flex;\n",
              "      gap: 12px;\n",
              "    }\n",
              "\n",
              "    .colab-df-convert {\n",
              "      background-color: #E8F0FE;\n",
              "      border: none;\n",
              "      border-radius: 50%;\n",
              "      cursor: pointer;\n",
              "      display: none;\n",
              "      fill: #1967D2;\n",
              "      height: 32px;\n",
              "      padding: 0 0 0 0;\n",
              "      width: 32px;\n",
              "    }\n",
              "\n",
              "    .colab-df-convert:hover {\n",
              "      background-color: #E2EBFA;\n",
              "      box-shadow: 0px 1px 2px rgba(60, 64, 67, 0.3), 0px 1px 3px 1px rgba(60, 64, 67, 0.15);\n",
              "      fill: #174EA6;\n",
              "    }\n",
              "\n",
              "    .colab-df-buttons div {\n",
              "      margin-bottom: 4px;\n",
              "    }\n",
              "\n",
              "    [theme=dark] .colab-df-convert {\n",
              "      background-color: #3B4455;\n",
              "      fill: #D2E3FC;\n",
              "    }\n",
              "\n",
              "    [theme=dark] .colab-df-convert:hover {\n",
              "      background-color: #434B5C;\n",
              "      box-shadow: 0px 1px 3px 1px rgba(0, 0, 0, 0.15);\n",
              "      filter: drop-shadow(0px 1px 2px rgba(0, 0, 0, 0.3));\n",
              "      fill: #FFFFFF;\n",
              "    }\n",
              "  </style>\n",
              "\n",
              "    <script>\n",
              "      const buttonEl =\n",
              "        document.querySelector('#df-b59e5617-9fa7-4eb7-9774-2f9ba5b8e321 button.colab-df-convert');\n",
              "      buttonEl.style.display =\n",
              "        google.colab.kernel.accessAllowed ? 'block' : 'none';\n",
              "\n",
              "      async function convertToInteractive(key) {\n",
              "        const element = document.querySelector('#df-b59e5617-9fa7-4eb7-9774-2f9ba5b8e321');\n",
              "        const dataTable =\n",
              "          await google.colab.kernel.invokeFunction('convertToInteractive',\n",
              "                                                    [key], {});\n",
              "        if (!dataTable) return;\n",
              "\n",
              "        const docLinkHtml = 'Like what you see? Visit the ' +\n",
              "          '<a target=\"_blank\" href=https://colab.research.google.com/notebooks/data_table.ipynb>data table notebook</a>'\n",
              "          + ' to learn more about interactive tables.';\n",
              "        element.innerHTML = '';\n",
              "        dataTable['output_type'] = 'display_data';\n",
              "        await google.colab.output.renderOutput(dataTable, element);\n",
              "        const docLink = document.createElement('div');\n",
              "        docLink.innerHTML = docLinkHtml;\n",
              "        element.appendChild(docLink);\n",
              "      }\n",
              "    </script>\n",
              "  </div>\n",
              "\n",
              "\n",
              "    <div id=\"df-c3b47efd-a12f-49c4-b46e-91d43d287ff7\">\n",
              "      <button class=\"colab-df-quickchart\" onclick=\"quickchart('df-c3b47efd-a12f-49c4-b46e-91d43d287ff7')\"\n",
              "                title=\"Suggest charts\"\n",
              "                style=\"display:none;\">\n",
              "\n",
              "<svg xmlns=\"http://www.w3.org/2000/svg\" height=\"24px\"viewBox=\"0 0 24 24\"\n",
              "     width=\"24px\">\n",
              "    <g>\n",
              "        <path d=\"M19 3H5c-1.1 0-2 .9-2 2v14c0 1.1.9 2 2 2h14c1.1 0 2-.9 2-2V5c0-1.1-.9-2-2-2zM9 17H7v-7h2v7zm4 0h-2V7h2v10zm4 0h-2v-4h2v4z\"/>\n",
              "    </g>\n",
              "</svg>\n",
              "      </button>\n",
              "\n",
              "<style>\n",
              "  .colab-df-quickchart {\n",
              "      --bg-color: #E8F0FE;\n",
              "      --fill-color: #1967D2;\n",
              "      --hover-bg-color: #E2EBFA;\n",
              "      --hover-fill-color: #174EA6;\n",
              "      --disabled-fill-color: #AAA;\n",
              "      --disabled-bg-color: #DDD;\n",
              "  }\n",
              "\n",
              "  [theme=dark] .colab-df-quickchart {\n",
              "      --bg-color: #3B4455;\n",
              "      --fill-color: #D2E3FC;\n",
              "      --hover-bg-color: #434B5C;\n",
              "      --hover-fill-color: #FFFFFF;\n",
              "      --disabled-bg-color: #3B4455;\n",
              "      --disabled-fill-color: #666;\n",
              "  }\n",
              "\n",
              "  .colab-df-quickchart {\n",
              "    background-color: var(--bg-color);\n",
              "    border: none;\n",
              "    border-radius: 50%;\n",
              "    cursor: pointer;\n",
              "    display: none;\n",
              "    fill: var(--fill-color);\n",
              "    height: 32px;\n",
              "    padding: 0;\n",
              "    width: 32px;\n",
              "  }\n",
              "\n",
              "  .colab-df-quickchart:hover {\n",
              "    background-color: var(--hover-bg-color);\n",
              "    box-shadow: 0 1px 2px rgba(60, 64, 67, 0.3), 0 1px 3px 1px rgba(60, 64, 67, 0.15);\n",
              "    fill: var(--button-hover-fill-color);\n",
              "  }\n",
              "\n",
              "  .colab-df-quickchart-complete:disabled,\n",
              "  .colab-df-quickchart-complete:disabled:hover {\n",
              "    background-color: var(--disabled-bg-color);\n",
              "    fill: var(--disabled-fill-color);\n",
              "    box-shadow: none;\n",
              "  }\n",
              "\n",
              "  .colab-df-spinner {\n",
              "    border: 2px solid var(--fill-color);\n",
              "    border-color: transparent;\n",
              "    border-bottom-color: var(--fill-color);\n",
              "    animation:\n",
              "      spin 1s steps(1) infinite;\n",
              "  }\n",
              "\n",
              "  @keyframes spin {\n",
              "    0% {\n",
              "      border-color: transparent;\n",
              "      border-bottom-color: var(--fill-color);\n",
              "      border-left-color: var(--fill-color);\n",
              "    }\n",
              "    20% {\n",
              "      border-color: transparent;\n",
              "      border-left-color: var(--fill-color);\n",
              "      border-top-color: var(--fill-color);\n",
              "    }\n",
              "    30% {\n",
              "      border-color: transparent;\n",
              "      border-left-color: var(--fill-color);\n",
              "      border-top-color: var(--fill-color);\n",
              "      border-right-color: var(--fill-color);\n",
              "    }\n",
              "    40% {\n",
              "      border-color: transparent;\n",
              "      border-right-color: var(--fill-color);\n",
              "      border-top-color: var(--fill-color);\n",
              "    }\n",
              "    60% {\n",
              "      border-color: transparent;\n",
              "      border-right-color: var(--fill-color);\n",
              "    }\n",
              "    80% {\n",
              "      border-color: transparent;\n",
              "      border-right-color: var(--fill-color);\n",
              "      border-bottom-color: var(--fill-color);\n",
              "    }\n",
              "    90% {\n",
              "      border-color: transparent;\n",
              "      border-bottom-color: var(--fill-color);\n",
              "    }\n",
              "  }\n",
              "</style>\n",
              "\n",
              "      <script>\n",
              "        async function quickchart(key) {\n",
              "          const quickchartButtonEl =\n",
              "            document.querySelector('#' + key + ' button');\n",
              "          quickchartButtonEl.disabled = true;  // To prevent multiple clicks.\n",
              "          quickchartButtonEl.classList.add('colab-df-spinner');\n",
              "          try {\n",
              "            const charts = await google.colab.kernel.invokeFunction(\n",
              "                'suggestCharts', [key], {});\n",
              "          } catch (error) {\n",
              "            console.error('Error during call to suggestCharts:', error);\n",
              "          }\n",
              "          quickchartButtonEl.classList.remove('colab-df-spinner');\n",
              "          quickchartButtonEl.classList.add('colab-df-quickchart-complete');\n",
              "        }\n",
              "        (() => {\n",
              "          let quickchartButtonEl =\n",
              "            document.querySelector('#df-c3b47efd-a12f-49c4-b46e-91d43d287ff7 button');\n",
              "          quickchartButtonEl.style.display =\n",
              "            google.colab.kernel.accessAllowed ? 'block' : 'none';\n",
              "        })();\n",
              "      </script>\n",
              "    </div>\n",
              "\n",
              "  <div id=\"id_00ada7ef-b97a-4a7d-a1ed-6e7cd3ce2218\">\n",
              "    <style>\n",
              "      .colab-df-generate {\n",
              "        background-color: #E8F0FE;\n",
              "        border: none;\n",
              "        border-radius: 50%;\n",
              "        cursor: pointer;\n",
              "        display: none;\n",
              "        fill: #1967D2;\n",
              "        height: 32px;\n",
              "        padding: 0 0 0 0;\n",
              "        width: 32px;\n",
              "      }\n",
              "\n",
              "      .colab-df-generate:hover {\n",
              "        background-color: #E2EBFA;\n",
              "        box-shadow: 0px 1px 2px rgba(60, 64, 67, 0.3), 0px 1px 3px 1px rgba(60, 64, 67, 0.15);\n",
              "        fill: #174EA6;\n",
              "      }\n",
              "\n",
              "      [theme=dark] .colab-df-generate {\n",
              "        background-color: #3B4455;\n",
              "        fill: #D2E3FC;\n",
              "      }\n",
              "\n",
              "      [theme=dark] .colab-df-generate:hover {\n",
              "        background-color: #434B5C;\n",
              "        box-shadow: 0px 1px 3px 1px rgba(0, 0, 0, 0.15);\n",
              "        filter: drop-shadow(0px 1px 2px rgba(0, 0, 0, 0.3));\n",
              "        fill: #FFFFFF;\n",
              "      }\n",
              "    </style>\n",
              "    <button class=\"colab-df-generate\" onclick=\"generateWithVariable('importance_df')\"\n",
              "            title=\"Generate code using this dataframe.\"\n",
              "            style=\"display:none;\">\n",
              "\n",
              "  <svg xmlns=\"http://www.w3.org/2000/svg\" height=\"24px\"viewBox=\"0 0 24 24\"\n",
              "       width=\"24px\">\n",
              "    <path d=\"M7,19H8.4L18.45,9,17,7.55,7,17.6ZM5,21V16.75L18.45,3.32a2,2,0,0,1,2.83,0l1.4,1.43a1.91,1.91,0,0,1,.58,1.4,1.91,1.91,0,0,1-.58,1.4L9.25,21ZM18.45,9,17,7.55Zm-12,3A5.31,5.31,0,0,0,4.9,8.1,5.31,5.31,0,0,0,1,6.5,5.31,5.31,0,0,0,4.9,4.9,5.31,5.31,0,0,0,6.5,1,5.31,5.31,0,0,0,8.1,4.9,5.31,5.31,0,0,0,12,6.5,5.46,5.46,0,0,0,6.5,12Z\"/>\n",
              "  </svg>\n",
              "    </button>\n",
              "    <script>\n",
              "      (() => {\n",
              "      const buttonEl =\n",
              "        document.querySelector('#id_00ada7ef-b97a-4a7d-a1ed-6e7cd3ce2218 button.colab-df-generate');\n",
              "      buttonEl.style.display =\n",
              "        google.colab.kernel.accessAllowed ? 'block' : 'none';\n",
              "\n",
              "      buttonEl.onclick = () => {\n",
              "        google.colab.notebook.generateWithVariable('importance_df');\n",
              "      }\n",
              "      })();\n",
              "    </script>\n",
              "  </div>\n",
              "\n",
              "    </div>\n",
              "  </div>\n"
            ],
            "application/vnd.google.colaboratory.intrinsic+json": {
              "type": "dataframe",
              "variable_name": "importance_df",
              "summary": "{\n  \"name\": \"importance_df\",\n  \"rows\": 32,\n  \"fields\": [\n    {\n      \"column\": \"column_name\",\n      \"properties\": {\n        \"dtype\": \"string\",\n        \"num_unique_values\": 32,\n        \"samples\": [\n          \"B1\",\n          \"reward_per_time\",\n          \"B5\"\n        ],\n        \"semantic_type\": \"\",\n        \"description\": \"\"\n      }\n    },\n    {\n      \"column\": \"shap_importance\",\n      \"properties\": {\n        \"dtype\": \"number\",\n        \"std\": 0.4804476474664461,\n        \"min\": 7.656768454756723e-05,\n        \"max\": 2.1698756695927766,\n        \"num_unique_values\": 32,\n        \"samples\": [\n          0.00020171561541439573,\n          0.01800459127840483,\n          0.0012220648708240437\n        ],\n        \"semantic_type\": \"\",\n        \"description\": \"\"\n      }\n    }\n  ]\n}"
            }
          },
          "metadata": {}
        },
        {
          "output_type": "display_data",
          "data": {
            "text/plain": [
              "<Figure size 1000x600 with 1 Axes>"
            ],
            "image/png": "[encoded data removed]"
          },
          "metadata": {}
        }
      ],
      "source": [
        "# LightGBM 모델 학습\n",
        "\n",
        "X_importance = X_test\n",
        "\n",
        "model = LGBMClassifier(random_state=0).fit(X_train, y_train)\n",
        "\n",
        "# SHAP Explainer 생성 및 SHAP 값 계산\n",
        "explainer = shap.TreeExplainer(model)\n",
        "shap_values = explainer.shap_values(X_importance)\n",
        "\n",
        "# SHAP Summary Plot (막대그래프)\n",
        "shap.summary_plot(shap_values, X_importance, plot_type='bar')\n",
        "\n",
        "# SHAP 중요도 계산 (axis=0 수정)\n",
        "shap_sum = np.abs(shap_values).mean(axis=0)  #\n",
        "\n",
        "# 피처 중요도 데이터프레임 생성\n",
        "importance_df = pd.DataFrame({\n",
        "    'column_name': X_importance.columns,\n",
        "    'shap_importance': shap_sum\n",
        "}).sort_values('shap_importance', ascending=False)\n",
        "\n",
        "# 중요도 데이터프레임 출력\n",
        "display(importance_df)  # Jupyter 환경에서 시각적으로 확인\n",
        "# print(importance_df.head(10))  # 상위 10개만 출력\n",
        "\n",
        "# 중요도 시각화\n",
        "plt.figure(figsize=(10, 6))\n",
        "plt.barh(importance_df[\"column_name\"], importance_df[\"shap_importance\"], color='skyblue')\n",
        "plt.xlabel(\"SHAP Importance\")\n",
        "plt.ylabel(\"Features\")\n",
        "plt.title(\"Feature Importance based on SHAP\")\n",
        "plt.gca().invert_yaxis()  # 중요도가 높은 순으로 정렬\n",
        "plt.show()\n"
      ]
    },
    {
      "cell_type": "code",
      "execution_count": 41,
      "metadata": {
        "id": "BA3W8CI_KH0L",
        "outputId": "d1da8961-484b-4b39-c40f-c3dbf68ae0f4",
        "colab": {
          "base_uri": "https://localhost:8080/"
        }
      },
      "outputs": [
        {
          "output_type": "stream",
          "name": "stdout",
          "text": [
            "(813650, 31)\n"
          ]
        }
      ],
      "source": [
        "# 지정된(SHAP_THRESHOLD) Shap feature 중요도 이상인 것만 선택\n",
        "SHAP_THRESHOLD = 0.0001\n",
        "\n",
        "#32 -> 29\n",
        "features_selected = importance_df.query('shap_importance > @SHAP_THRESHOLD').column_name.tolist()\n",
        "X_train = X_train[features_selected]\n",
        "X_test = X_test[features_selected]\n",
        "\n",
        "print(X_train.shape)"
      ]
    },
    {
      "cell_type": "code",
      "source": [
        "X_train.columns"
      ],
      "metadata": {
        "colab": {
          "base_uri": "https://localhost:8080/"
        },
        "id": "18TKsJe57Hgu",
        "outputId": "6e47672f-e9dc-498e-b07d-760f30288e07"
      },
      "execution_count": 42,
      "outputs": [
        {
          "output_type": "execute_result",
          "data": {
            "text/plain": [
              "Index(['Points_earned_bins', 'Status_sum_log', 'panel_response_rate',\n",
              "       'RESRATE_S', 'survey_response_rate', 'target_region', 'TITLE', 'TYPE',\n",
              "       'surveyID', 'type_response_rate', 'CPI', 'neg_scaled_time_difficulty',\n",
              "       'IR', 'userID', 'REGION', 'reward_per_time', 'target_type_consumer',\n",
              "       'GENDER', 'LOI', 'BIRTH', 'SQ7', 'target_type_general', 'A1', 'SQ6',\n",
              "       'B5', 'SQ8', 'B4', 'SQ4', 'B3', 'B1', 'SQ5'],\n",
              "      dtype='object')"
            ]
          },
          "metadata": {},
          "execution_count": 42
        }
      ]
    },
    {
      "cell_type": "code",
      "execution_count": 43,
      "metadata": {
        "id": "zOhOF4HPKH0L",
        "outputId": "c96da685-bbda-459f-f013-c9918fdb6668",
        "colab": {
          "base_uri": "https://localhost:8080/",
          "height": 444
        }
      },
      "outputs": [
        {
          "output_type": "execute_result",
          "data": {
            "text/plain": [
              "        Points_earned_bins  Status_sum_log  panel_response_rate  RESRATE_S  \\\n",
              "0                       32        1.934314             1.726479   1.861661   \n",
              "1                       32        1.934314             1.726479   1.468151   \n",
              "2                       32        1.934314             1.726479  -0.321342   \n",
              "3                       32        1.934314             1.726479  -0.631940   \n",
              "4                       32        1.934314             1.726479  -0.581945   \n",
              "...                    ...             ...                  ...        ...   \n",
              "813645                  33        0.310619            -0.327473   0.610627   \n",
              "813646                  33        0.310619            -0.327473   1.056260   \n",
              "813647                  33        0.310619            -0.327473   0.596492   \n",
              "813648                  33        0.310619            -0.327473   1.461437   \n",
              "813649                  33        0.310619            -0.327473   0.161355   \n",
              "\n",
              "        survey_response_rate  target_region     TITLE  TYPE  surveyID  \\\n",
              "0                   1.862850              1  0.632637     2        18   \n",
              "1                   1.469490              1  0.632637     2        19   \n",
              "2                  -0.322485              1  0.632637     2        27   \n",
              "3                  -0.633288              1  0.632637     2        28   \n",
              "4                  -0.579869              1  0.632637     2        30   \n",
              "...                      ...            ...       ...   ...       ...   \n",
              "813645              0.609925              0 -1.453760     2       998   \n",
              "813646              1.056704              0 -1.453760     2      1127   \n",
              "813647              0.595356              0 -1.453760     2      1163   \n",
              "813648              1.459777              0 -1.362866     2      1220   \n",
              "813649              0.163145              1  0.632637     2      1223   \n",
              "\n",
              "        type_response_rate  ...  target_type_general        A1       SQ6  \\\n",
              "0                 1.062459  ...                    0  0.783333 -0.683082   \n",
              "1                 1.062459  ...                    0  0.783333 -0.683082   \n",
              "2                 1.062459  ...                    0  0.783333 -0.683082   \n",
              "3                 1.062459  ...                    0  0.783333 -0.683082   \n",
              "4                 1.062459  ...                    0  0.783333 -0.683082   \n",
              "...                    ...  ...                  ...       ...       ...   \n",
              "813645            1.062459  ...                    1  0.783333 -0.683082   \n",
              "813646            1.062459  ...                    1  0.783333 -0.683082   \n",
              "813647            1.062459  ...                    1  0.783333 -0.683082   \n",
              "813648            1.062459  ...                    0  0.783333 -0.683082   \n",
              "813649            1.062459  ...                    0  0.783333 -0.683082   \n",
              "\n",
              "              B5   SQ8        B4       SQ4        B3       B1       SQ5  \n",
              "0      -0.402457  1741 -0.841438 -0.357405 -0.267413  0.56006 -0.457181  \n",
              "1      -0.402457  1741 -0.841438 -0.357405 -0.267413  0.56006 -0.457181  \n",
              "2      -0.402457  1741 -0.841438 -0.357405 -0.267413  0.56006 -0.457181  \n",
              "3      -0.402457  1741 -0.841438 -0.357405 -0.267413  0.56006 -0.457181  \n",
              "4      -0.402457  1741 -0.841438 -0.357405 -0.267413  0.56006 -0.457181  \n",
              "...          ...   ...       ...       ...       ...      ...       ...  \n",
              "813645 -0.402457  1476 -0.841438 -0.252530 -0.267413  0.56006 -0.510906  \n",
              "813646 -0.402457  1476 -0.841438 -0.252530 -0.267413  0.56006 -0.510906  \n",
              "813647 -0.402457  1476 -0.841438 -0.252530 -0.267413  0.56006 -0.510906  \n",
              "813648 -0.402457  1476 -0.841438 -0.252530 -0.267413  0.56006 -0.510906  \n",
              "813649 -0.402457  1476 -0.841438 -0.252530 -0.267413  0.56006 -0.510906  \n",
              "\n",
              "[813650 rows x 31 columns]"
            ],
            "text/html": [
              "\n",
              "  <div id=\"df-daae0bed-4b8d-4f60-add0-158fa39dcb5b\" class=\"colab-df-container\">\n",
              "    <div>\n",
              "<style scoped>\n",
              "    .dataframe tbody tr th:only-of-type {\n",
              "        vertical-align: middle;\n",
              "    }\n",
              "\n",
              "    .dataframe tbody tr th {\n",
              "        vertical-align: top;\n",
              "    }\n",
              "\n",
              "    .dataframe thead th {\n",
              "        text-align: right;\n",
              "    }\n",
              "</style>\n",
              "<table border=\"1\" class=\"dataframe\">\n",
              "  <thead>\n",
              "    <tr style=\"text-align: right;\">\n",
              "      <th></th>\n",
              "      <th>Points_earned_bins</th>\n",
              "      <th>Status_sum_log</th>\n",
              "      <th>panel_response_rate</th>\n",
              "      <th>RESRATE_S</th>\n",
              "      <th>survey_response_rate</th>\n",
              "      <th>target_region</th>\n",
              "      <th>TITLE</th>\n",
              "      <th>TYPE</th>\n",
              "      <th>surveyID</th>\n",
              "      <th>type_response_rate</th>\n",
              "      <th>...</th>\n",
              "      <th>target_type_general</th>\n",
              "      <th>A1</th>\n",
              "      <th>SQ6</th>\n",
              "      <th>B5</th>\n",
              "      <th>SQ8</th>\n",
              "      <th>B4</th>\n",
              "      <th>SQ4</th>\n",
              "      <th>B3</th>\n",
              "      <th>B1</th>\n",
              "      <th>SQ5</th>\n",
              "    </tr>\n",
              "  </thead>\n",
              "  <tbody>\n",
              "    <tr>\n",
              "      <th>0</th>\n",
              "      <td>32</td>\n",
              "      <td>1.934314</td>\n",
              "      <td>1.726479</td>\n",
              "      <td>1.861661</td>\n",
              "      <td>1.862850</td>\n",
              "      <td>1</td>\n",
              "      <td>0.632637</td>\n",
              "      <td>2</td>\n",
              "      <td>18</td>\n",
              "      <td>1.062459</td>\n",
              "      <td>...</td>\n",
              "      <td>0</td>\n",
              "      <td>0.783333</td>\n",
              "      <td>-0.683082</td>\n",
              "      <td>-0.402457</td>\n",
              "      <td>1741</td>\n",
              "      <td>-0.841438</td>\n",
              "      <td>-0.357405</td>\n",
              "      <td>-0.267413</td>\n",
              "      <td>0.56006</td>\n",
              "      <td>-0.457181</td>\n",
              "    </tr>\n",
              "    <tr>\n",
              "      <th>1</th>\n",
              "      <td>32</td>\n",
              "      <td>1.934314</td>\n",
              "      <td>1.726479</td>\n",
              "      <td>1.468151</td>\n",
              "      <td>1.469490</td>\n",
              "      <td>1</td>\n",
              "      <td>0.632637</td>\n",
              "      <td>2</td>\n",
              "      <td>19</td>\n",
              "      <td>1.062459</td>\n",
              "      <td>...</td>\n",
              "      <td>0</td>\n",
              "      <td>0.783333</td>\n",
              "      <td>-0.683082</td>\n",
              "      <td>-0.402457</td>\n",
              "      <td>1741</td>\n",
              "      <td>-0.841438</td>\n",
              "      <td>-0.357405</td>\n",
              "      <td>-0.267413</td>\n",
              "      <td>0.56006</td>\n",
              "      <td>-0.457181</td>\n",
              "    </tr>\n",
              "    <tr>\n",
              "      <th>2</th>\n",
              "      <td>32</td>\n",
              "      <td>1.934314</td>\n",
              "      <td>1.726479</td>\n",
              "      <td>-0.321342</td>\n",
              "      <td>-0.322485</td>\n",
              "      <td>1</td>\n",
              "      <td>0.632637</td>\n",
              "      <td>2</td>\n",
              "      <td>27</td>\n",
              "      <td>1.062459</td>\n",
              "      <td>...</td>\n",
              "      <td>0</td>\n",
              "      <td>0.783333</td>\n",
              "      <td>-0.683082</td>\n",
              "      <td>-0.402457</td>\n",
              "      <td>1741</td>\n",
              "      <td>-0.841438</td>\n",
              "      <td>-0.357405</td>\n",
              "      <td>-0.267413</td>\n",
              "      <td>0.56006</td>\n",
              "      <td>-0.457181</td>\n",
              "    </tr>\n",
              "    <tr>\n",
              "      <th>3</th>\n",
              "      <td>32</td>\n",
              "      <td>1.934314</td>\n",
              "      <td>1.726479</td>\n",
              "      <td>-0.631940</td>\n",
              "      <td>-0.633288</td>\n",
              "      <td>1</td>\n",
              "      <td>0.632637</td>\n",
              "      <td>2</td>\n",
              "      <td>28</td>\n",
              "      <td>1.062459</td>\n",
              "      <td>...</td>\n",
              "      <td>0</td>\n",
              "      <td>0.783333</td>\n",
              "      <td>-0.683082</td>\n",
              "      <td>-0.402457</td>\n",
              "      <td>1741</td>\n",
              "      <td>-0.841438</td>\n",
              "      <td>-0.357405</td>\n",
              "      <td>-0.267413</td>\n",
              "      <td>0.56006</td>\n",
              "      <td>-0.457181</td>\n",
              "    </tr>\n",
              "    <tr>\n",
              "      <th>4</th>\n",
              "      <td>32</td>\n",
              "      <td>1.934314</td>\n",
              "      <td>1.726479</td>\n",
              "      <td>-0.581945</td>\n",
              "      <td>-0.579869</td>\n",
              "      <td>1</td>\n",
              "      <td>0.632637</td>\n",
              "      <td>2</td>\n",
              "      <td>30</td>\n",
              "      <td>1.062459</td>\n",
              "      <td>...</td>\n",
              "      <td>0</td>\n",
              "      <td>0.783333</td>\n",
              "      <td>-0.683082</td>\n",
              "      <td>-0.402457</td>\n",
              "      <td>1741</td>\n",
              "      <td>-0.841438</td>\n",
              "      <td>-0.357405</td>\n",
              "      <td>-0.267413</td>\n",
              "      <td>0.56006</td>\n",
              "      <td>-0.457181</td>\n",
              "    </tr>\n",
              "    <tr>\n",
              "      <th>...</th>\n",
              "      <td>...</td>\n",
              "      <td>...</td>\n",
              "      <td>...</td>\n",
              "      <td>...</td>\n",
              "      <td>...</td>\n",
              "      <td>...</td>\n",
              "      <td>...</td>\n",
              "      <td>...</td>\n",
              "      <td>...</td>\n",
              "      <td>...</td>\n",
              "      <td>...</td>\n",
              "      <td>...</td>\n",
              "      <td>...</td>\n",
              "      <td>...</td>\n",
              "      <td>...</td>\n",
              "      <td>...</td>\n",
              "      <td>...</td>\n",
              "      <td>...</td>\n",
              "      <td>...</td>\n",
              "      <td>...</td>\n",
              "      <td>...</td>\n",
              "    </tr>\n",
              "    <tr>\n",
              "      <th>813645</th>\n",
              "      <td>33</td>\n",
              "      <td>0.310619</td>\n",
              "      <td>-0.327473</td>\n",
              "      <td>0.610627</td>\n",
              "      <td>0.609925</td>\n",
              "      <td>0</td>\n",
              "      <td>-1.453760</td>\n",
              "      <td>2</td>\n",
              "      <td>998</td>\n",
              "      <td>1.062459</td>\n",
              "      <td>...</td>\n",
              "      <td>1</td>\n",
              "      <td>0.783333</td>\n",
              "      <td>-0.683082</td>\n",
              "      <td>-0.402457</td>\n",
              "      <td>1476</td>\n",
              "      <td>-0.841438</td>\n",
              "      <td>-0.252530</td>\n",
              "      <td>-0.267413</td>\n",
              "      <td>0.56006</td>\n",
              "      <td>-0.510906</td>\n",
              "    </tr>\n",
              "    <tr>\n",
              "      <th>813646</th>\n",
              "      <td>33</td>\n",
              "      <td>0.310619</td>\n",
              "      <td>-0.327473</td>\n",
              "      <td>1.056260</td>\n",
              "      <td>1.056704</td>\n",
              "      <td>0</td>\n",
              "      <td>-1.453760</td>\n",
              "      <td>2</td>\n",
              "      <td>1127</td>\n",
              "      <td>1.062459</td>\n",
              "      <td>...</td>\n",
              "      <td>1</td>\n",
              "      <td>0.783333</td>\n",
              "      <td>-0.683082</td>\n",
              "      <td>-0.402457</td>\n",
              "      <td>1476</td>\n",
              "      <td>-0.841438</td>\n",
              "      <td>-0.252530</td>\n",
              "      <td>-0.267413</td>\n",
              "      <td>0.56006</td>\n",
              "      <td>-0.510906</td>\n",
              "    </tr>\n",
              "    <tr>\n",
              "      <th>813647</th>\n",
              "      <td>33</td>\n",
              "      <td>0.310619</td>\n",
              "      <td>-0.327473</td>\n",
              "      <td>0.596492</td>\n",
              "      <td>0.595356</td>\n",
              "      <td>0</td>\n",
              "      <td>-1.453760</td>\n",
              "      <td>2</td>\n",
              "      <td>1163</td>\n",
              "      <td>1.062459</td>\n",
              "      <td>...</td>\n",
              "      <td>1</td>\n",
              "      <td>0.783333</td>\n",
              "      <td>-0.683082</td>\n",
              "      <td>-0.402457</td>\n",
              "      <td>1476</td>\n",
              "      <td>-0.841438</td>\n",
              "      <td>-0.252530</td>\n",
              "      <td>-0.267413</td>\n",
              "      <td>0.56006</td>\n",
              "      <td>-0.510906</td>\n",
              "    </tr>\n",
              "    <tr>\n",
              "      <th>813648</th>\n",
              "      <td>33</td>\n",
              "      <td>0.310619</td>\n",
              "      <td>-0.327473</td>\n",
              "      <td>1.461437</td>\n",
              "      <td>1.459777</td>\n",
              "      <td>0</td>\n",
              "      <td>-1.362866</td>\n",
              "      <td>2</td>\n",
              "      <td>1220</td>\n",
              "      <td>1.062459</td>\n",
              "      <td>...</td>\n",
              "      <td>0</td>\n",
              "      <td>0.783333</td>\n",
              "      <td>-0.683082</td>\n",
              "      <td>-0.402457</td>\n",
              "      <td>1476</td>\n",
              "      <td>-0.841438</td>\n",
              "      <td>-0.252530</td>\n",
              "      <td>-0.267413</td>\n",
              "      <td>0.56006</td>\n",
              "      <td>-0.510906</td>\n",
              "    </tr>\n",
              "    <tr>\n",
              "      <th>813649</th>\n",
              "      <td>33</td>\n",
              "      <td>0.310619</td>\n",
              "      <td>-0.327473</td>\n",
              "      <td>0.161355</td>\n",
              "      <td>0.163145</td>\n",
              "      <td>1</td>\n",
              "      <td>0.632637</td>\n",
              "      <td>2</td>\n",
              "      <td>1223</td>\n",
              "      <td>1.062459</td>\n",
              "      <td>...</td>\n",
              "      <td>0</td>\n",
              "      <td>0.783333</td>\n",
              "      <td>-0.683082</td>\n",
              "      <td>-0.402457</td>\n",
              "      <td>1476</td>\n",
              "      <td>-0.841438</td>\n",
              "      <td>-0.252530</td>\n",
              "      <td>-0.267413</td>\n",
              "      <td>0.56006</td>\n",
              "      <td>-0.510906</td>\n",
              "    </tr>\n",
              "  </tbody>\n",
              "</table>\n",
              "<p>813650 rows × 31 columns</p>\n",
              "</div>\n",
              "    <div class=\"colab-df-buttons\">\n",
              "\n",
              "  <div class=\"colab-df-container\">\n",
              "    <button class=\"colab-df-convert\" onclick=\"convertToInteractive('df-daae0bed-4b8d-4f60-add0-158fa39dcb5b')\"\n",
              "            title=\"Convert this dataframe to an interactive table.\"\n",
              "            style=\"display:none;\">\n",
              "\n",
              "  <svg xmlns=\"http://www.w3.org/2000/svg\" height=\"24px\" viewBox=\"0 -960 960 960\">\n",
              "    <path d=\"M120-120v-720h720v720H120Zm60-500h600v-160H180v160Zm220 220h160v-160H400v160Zm0 220h160v-160H400v160ZM180-400h160v-160H180v160Zm440 0h160v-160H620v160ZM180-180h160v-160H180v160Zm440 0h160v-160H620v160Z\"/>\n",
              "  </svg>\n",
              "    </button>\n",
              "\n",
              "  <style>\n",
              "    .colab-df-container {\n",
              "      display:flex;\n",
              "      gap: 12px;\n",
              "    }\n",
              "\n",
              "    .colab-df-convert {\n",
              "      background-color: #E8F0FE;\n",
              "      border: none;\n",
              "      border-radius: 50%;\n",
              "      cursor: pointer;\n",
              "      display: none;\n",
              "      fill: #1967D2;\n",
              "      height: 32px;\n",
              "      padding: 0 0 0 0;\n",
              "      width: 32px;\n",
              "    }\n",
              "\n",
              "    .colab-df-convert:hover {\n",
              "      background-color: #E2EBFA;\n",
              "      box-shadow: 0px 1px 2px rgba(60, 64, 67, 0.3), 0px 1px 3px 1px rgba(60, 64, 67, 0.15);\n",
              "      fill: #174EA6;\n",
              "    }\n",
              "\n",
              "    .colab-df-buttons div {\n",
              "      margin-bottom: 4px;\n",
              "    }\n",
              "\n",
              "    [theme=dark] .colab-df-convert {\n",
              "      background-color: #3B4455;\n",
              "      fill: #D2E3FC;\n",
              "    }\n",
              "\n",
              "    [theme=dark] .colab-df-convert:hover {\n",
              "      background-color: #434B5C;\n",
              "      box-shadow: 0px 1px 3px 1px rgba(0, 0, 0, 0.15);\n",
              "      filter: drop-shadow(0px 1px 2px rgba(0, 0, 0, 0.3));\n",
              "      fill: #FFFFFF;\n",
              "    }\n",
              "  </style>\n",
              "\n",
              "    <script>\n",
              "      const buttonEl =\n",
              "        document.querySelector('#df-daae0bed-4b8d-4f60-add0-158fa39dcb5b button.colab-df-convert');\n",
              "      buttonEl.style.display =\n",
              "        google.colab.kernel.accessAllowed ? 'block' : 'none';\n",
              "\n",
              "      async function convertToInteractive(key) {\n",
              "        const element = document.querySelector('#df-daae0bed-4b8d-4f60-add0-158fa39dcb5b');\n",
              "        const dataTable =\n",
              "          await google.colab.kernel.invokeFunction('convertToInteractive',\n",
              "                                                    [key], {});\n",
              "        if (!dataTable) return;\n",
              "\n",
              "        const docLinkHtml = 'Like what you see? Visit the ' +\n",
              "          '<a target=\"_blank\" href=https://colab.research.google.com/notebooks/data_table.ipynb>data table notebook</a>'\n",
              "          + ' to learn more about interactive tables.';\n",
              "        element.innerHTML = '';\n",
              "        dataTable['output_type'] = 'display_data';\n",
              "        await google.colab.output.renderOutput(dataTable, element);\n",
              "        const docLink = document.createElement('div');\n",
              "        docLink.innerHTML = docLinkHtml;\n",
              "        element.appendChild(docLink);\n",
              "      }\n",
              "    </script>\n",
              "  </div>\n",
              "\n",
              "\n",
              "    <div id=\"df-d40d9898-3e37-4f55-864b-c49be0ce1e32\">\n",
              "      <button class=\"colab-df-quickchart\" onclick=\"quickchart('df-d40d9898-3e37-4f55-864b-c49be0ce1e32')\"\n",
              "                title=\"Suggest charts\"\n",
              "                style=\"display:none;\">\n",
              "\n",
              "<svg xmlns=\"http://www.w3.org/2000/svg\" height=\"24px\"viewBox=\"0 0 24 24\"\n",
              "     width=\"24px\">\n",
              "    <g>\n",
              "        <path d=\"M19 3H5c-1.1 0-2 .9-2 2v14c0 1.1.9 2 2 2h14c1.1 0 2-.9 2-2V5c0-1.1-.9-2-2-2zM9 17H7v-7h2v7zm4 0h-2V7h2v10zm4 0h-2v-4h2v4z\"/>\n",
              "    </g>\n",
              "</svg>\n",
              "      </button>\n",
              "\n",
              "<style>\n",
              "  .colab-df-quickchart {\n",
              "      --bg-color: #E8F0FE;\n",
              "      --fill-color: #1967D2;\n",
              "      --hover-bg-color: #E2EBFA;\n",
              "      --hover-fill-color: #174EA6;\n",
              "      --disabled-fill-color: #AAA;\n",
              "      --disabled-bg-color: #DDD;\n",
              "  }\n",
              "\n",
              "  [theme=dark] .colab-df-quickchart {\n",
              "      --bg-color: #3B4455;\n",
              "      --fill-color: #D2E3FC;\n",
              "      --hover-bg-color: #434B5C;\n",
              "      --hover-fill-color: #FFFFFF;\n",
              "      --disabled-bg-color: #3B4455;\n",
              "      --disabled-fill-color: #666;\n",
              "  }\n",
              "\n",
              "  .colab-df-quickchart {\n",
              "    background-color: var(--bg-color);\n",
              "    border: none;\n",
              "    border-radius: 50%;\n",
              "    cursor: pointer;\n",
              "    display: none;\n",
              "    fill: var(--fill-color);\n",
              "    height: 32px;\n",
              "    padding: 0;\n",
              "    width: 32px;\n",
              "  }\n",
              "\n",
              "  .colab-df-quickchart:hover {\n",
              "    background-color: var(--hover-bg-color);\n",
              "    box-shadow: 0 1px 2px rgba(60, 64, 67, 0.3), 0 1px 3px 1px rgba(60, 64, 67, 0.15);\n",
              "    fill: var(--button-hover-fill-color);\n",
              "  }\n",
              "\n",
              "  .colab-df-quickchart-complete:disabled,\n",
              "  .colab-df-quickchart-complete:disabled:hover {\n",
              "    background-color: var(--disabled-bg-color);\n",
              "    fill: var(--disabled-fill-color);\n",
              "    box-shadow: none;\n",
              "  }\n",
              "\n",
              "  .colab-df-spinner {\n",
              "    border: 2px solid var(--fill-color);\n",
              "    border-color: transparent;\n",
              "    border-bottom-color: var(--fill-color);\n",
              "    animation:\n",
              "      spin 1s steps(1) infinite;\n",
              "  }\n",
              "\n",
              "  @keyframes spin {\n",
              "    0% {\n",
              "      border-color: transparent;\n",
              "      border-bottom-color: var(--fill-color);\n",
              "      border-left-color: var(--fill-color);\n",
              "    }\n",
              "    20% {\n",
              "      border-color: transparent;\n",
              "      border-left-color: var(--fill-color);\n",
              "      border-top-color: var(--fill-color);\n",
              "    }\n",
              "    30% {\n",
              "      border-color: transparent;\n",
              "      border-left-color: var(--fill-color);\n",
              "      border-top-color: var(--fill-color);\n",
              "      border-right-color: var(--fill-color);\n",
              "    }\n",
              "    40% {\n",
              "      border-color: transparent;\n",
              "      border-right-color: var(--fill-color);\n",
              "      border-top-color: var(--fill-color);\n",
              "    }\n",
              "    60% {\n",
              "      border-color: transparent;\n",
              "      border-right-color: var(--fill-color);\n",
              "    }\n",
              "    80% {\n",
              "      border-color: transparent;\n",
              "      border-right-color: var(--fill-color);\n",
              "      border-bottom-color: var(--fill-color);\n",
              "    }\n",
              "    90% {\n",
              "      border-color: transparent;\n",
              "      border-bottom-color: var(--fill-color);\n",
              "    }\n",
              "  }\n",
              "</style>\n",
              "\n",
              "      <script>\n",
              "        async function quickchart(key) {\n",
              "          const quickchartButtonEl =\n",
              "            document.querySelector('#' + key + ' button');\n",
              "          quickchartButtonEl.disabled = true;  // To prevent multiple clicks.\n",
              "          quickchartButtonEl.classList.add('colab-df-spinner');\n",
              "          try {\n",
              "            const charts = await google.colab.kernel.invokeFunction(\n",
              "                'suggestCharts', [key], {});\n",
              "          } catch (error) {\n",
              "            console.error('Error during call to suggestCharts:', error);\n",
              "          }\n",
              "          quickchartButtonEl.classList.remove('colab-df-spinner');\n",
              "          quickchartButtonEl.classList.add('colab-df-quickchart-complete');\n",
              "        }\n",
              "        (() => {\n",
              "          let quickchartButtonEl =\n",
              "            document.querySelector('#df-d40d9898-3e37-4f55-864b-c49be0ce1e32 button');\n",
              "          quickchartButtonEl.style.display =\n",
              "            google.colab.kernel.accessAllowed ? 'block' : 'none';\n",
              "        })();\n",
              "      </script>\n",
              "    </div>\n",
              "\n",
              "  <div id=\"id_9e1cbda3-a793-46ee-9d94-b81ef7c7f7fc\">\n",
              "    <style>\n",
              "      .colab-df-generate {\n",
              "        background-color: #E8F0FE;\n",
              "        border: none;\n",
              "        border-radius: 50%;\n",
              "        cursor: pointer;\n",
              "        display: none;\n",
              "        fill: #1967D2;\n",
              "        height: 32px;\n",
              "        padding: 0 0 0 0;\n",
              "        width: 32px;\n",
              "      }\n",
              "\n",
              "      .colab-df-generate:hover {\n",
              "        background-color: #E2EBFA;\n",
              "        box-shadow: 0px 1px 2px rgba(60, 64, 67, 0.3), 0px 1px 3px 1px rgba(60, 64, 67, 0.15);\n",
              "        fill: #174EA6;\n",
              "      }\n",
              "\n",
              "      [theme=dark] .colab-df-generate {\n",
              "        background-color: #3B4455;\n",
              "        fill: #D2E3FC;\n",
              "      }\n",
              "\n",
              "      [theme=dark] .colab-df-generate:hover {\n",
              "        background-color: #434B5C;\n",
              "        box-shadow: 0px 1px 3px 1px rgba(0, 0, 0, 0.15);\n",
              "        filter: drop-shadow(0px 1px 2px rgba(0, 0, 0, 0.3));\n",
              "        fill: #FFFFFF;\n",
              "      }\n",
              "    </style>\n",
              "    <button class=\"colab-df-generate\" onclick=\"generateWithVariable('X_train')\"\n",
              "            title=\"Generate code using this dataframe.\"\n",
              "            style=\"display:none;\">\n",
              "\n",
              "  <svg xmlns=\"http://www.w3.org/2000/svg\" height=\"24px\"viewBox=\"0 0 24 24\"\n",
              "       width=\"24px\">\n",
              "    <path d=\"M7,19H8.4L18.45,9,17,7.55,7,17.6ZM5,21V16.75L18.45,3.32a2,2,0,0,1,2.83,0l1.4,1.43a1.91,1.91,0,0,1,.58,1.4,1.91,1.91,0,0,1-.58,1.4L9.25,21ZM18.45,9,17,7.55Zm-12,3A5.31,5.31,0,0,0,4.9,8.1,5.31,5.31,0,0,0,1,6.5,5.31,5.31,0,0,0,4.9,4.9,5.31,5.31,0,0,0,6.5,1,5.31,5.31,0,0,0,8.1,4.9,5.31,5.31,0,0,0,12,6.5,5.46,5.46,0,0,0,6.5,12Z\"/>\n",
              "  </svg>\n",
              "    </button>\n",
              "    <script>\n",
              "      (() => {\n",
              "      const buttonEl =\n",
              "        document.querySelector('#id_9e1cbda3-a793-46ee-9d94-b81ef7c7f7fc button.colab-df-generate');\n",
              "      buttonEl.style.display =\n",
              "        google.colab.kernel.accessAllowed ? 'block' : 'none';\n",
              "\n",
              "      buttonEl.onclick = () => {\n",
              "        google.colab.notebook.generateWithVariable('X_train');\n",
              "      }\n",
              "      })();\n",
              "    </script>\n",
              "  </div>\n",
              "\n",
              "    </div>\n",
              "  </div>\n"
            ],
            "application/vnd.google.colaboratory.intrinsic+json": {
              "type": "dataframe",
              "variable_name": "X_train"
            }
          },
          "metadata": {},
          "execution_count": 43
        }
      ],
      "source": [
        "X_train"
      ]
    },
    {
      "cell_type": "code",
      "execution_count": 44,
      "metadata": {
        "id": "E_3pKZcrKH0L",
        "outputId": "5448e86a-97d7-49bb-a720-764ffc3412f0",
        "colab": {
          "base_uri": "https://localhost:8080/",
          "height": 36
        }
      },
      "outputs": [
        {
          "output_type": "execute_result",
          "data": {
            "text/plain": [
              "'import numpy as np\\n\\n# 전체 피처에 대해 sqrt 스케일링 적용\\narbitrary_number = 1\\nX_train = np.sqrt(X_train + arbitrary_number)\\nX_test = np.sqrt(X_test + arbitrary_number)\\n'"
            ],
            "application/vnd.google.colaboratory.intrinsic+json": {
              "type": "string"
            }
          },
          "metadata": {},
          "execution_count": 44
        }
      ],
      "source": [
        "### 데이터 변환\n",
        "'''import numpy as np\n",
        "\n",
        "# 전체 피처에 대해 sqrt 스케일링 적용\n",
        "arbitrary_number = 1\n",
        "X_train = np.sqrt(X_train + arbitrary_number)\n",
        "X_test = np.sqrt(X_test + arbitrary_number)\n",
        "'''"
      ]
    },
    {
      "cell_type": "markdown",
      "metadata": {
        "id": "isfq5PjsKH0L"
      },
      "source": [
        "# **06. Model building**"
      ]
    },
    {
      "cell_type": "markdown",
      "source": [
        "#### 단일모델 성능 비교"
      ],
      "metadata": {
        "id": "fJFNG5pr4q13"
      }
    },
    {
      "cell_type": "code",
      "source": [
        "import numpy as np\n",
        "import pandas as pd\n",
        "from sklearn.model_selection import train_test_split\n",
        "from sklearn.metrics import accuracy_score\n",
        "from sklearn.ensemble import RandomForestClassifier\n",
        "from sklearn.tree import DecisionTreeClassifier\n",
        "from sklearn.linear_model import LogisticRegression, RidgeClassifier\n",
        "from xgboost import XGBClassifier\n",
        "from lightgbm import LGBMClassifier\n",
        "from catboost import CatBoostClassifier\n",
        "import matplotlib.pyplot as plt\n",
        "\n",
        "# 모델 정의\n",
        "models = {\n",
        "    \"RandomForest\": RandomForestClassifier(),\n",
        "    \"DecisionTree\": DecisionTreeClassifier(),\n",
        "    \"LogisticRegression\": LogisticRegression(),\n",
        "    \"RidgeClassifier\": RidgeClassifier(),\n",
        "    \"XGBoost\": XGBClassifier(use_label_encoder=False, eval_metric='logloss'),\n",
        "    \"LightGBM\": LGBMClassifier(),\n",
        "    \"CatBoost\": CatBoostClassifier(verbose=0)\n",
        "}\n",
        "\n",
        "# 검증용 데이터 분리 (8:2)\n",
        "X_tr, X_val, y_tr, y_val = train_test_split(X_train, y_train, test_size=0.2, random_state=42, stratify=y_train)\n",
        "\n",
        "model_scores = {}\n",
        "\n",
        "for name, model in models.items():\n",
        "    model.fit(X_tr, y_tr)\n",
        "    preds = model.predict(X_val)\n",
        "    acc = accuracy_score(y_val, preds)\n",
        "    model_scores[name] = acc\n",
        "    print(f\"{name}: {acc:.4f}\")\n",
        "\n"
      ],
      "metadata": {
        "id": "KOAO7IK2w2wp",
        "colab": {
          "base_uri": "https://localhost:8080/"
        },
        "outputId": "d65eeeff-e95e-4b0c-a4b7-8dec6cf288fe"
      },
      "execution_count": 45,
      "outputs": [
        {
          "output_type": "stream",
          "name": "stdout",
          "text": [
            "RandomForest: 0.8608\n",
            "DecisionTree: 0.8187\n",
            "LogisticRegression: 0.8410\n",
            "RidgeClassifier: 0.8476\n",
            "XGBoost: 0.8671\n",
            "[LightGBM] [Info] Number of positive: 253252, number of negative: 397668\n",
            "[LightGBM] [Info] Auto-choosing row-wise multi-threading, the overhead of testing was 0.029004 seconds.\n",
            "You can set `force_row_wise=true` to remove the overhead.\n",
            "And if memory is not enough, you can set `force_col_wise=true`.\n",
            "[LightGBM] [Info] Total Bins 2212\n",
            "[LightGBM] [Info] Number of data points in the train set: 650920, number of used features: 31\n",
            "[LightGBM] [Info] [binary:BoostFromScore]: pavg=0.389068 -> initscore=-0.451232\n",
            "[LightGBM] [Info] Start training from score -0.451232\n",
            "LightGBM: 0.8646\n",
            "CatBoost: 0.8693\n"
          ]
        }
      ]
    },
    {
      "cell_type": "code",
      "source": [
        "import seaborn as sns\n",
        "import matplotlib.pyplot as plt\n",
        "import matplotlib.cm as cm\n",
        "import matplotlib.colors as mcolors\n",
        "\n",
        "# 정확도 내림차순 정렬\n",
        "sorted_scores = dict(sorted(model_scores.items(), key=lambda x: x[1], reverse=True))\n",
        "df_scores = pd.DataFrame({\n",
        "    'Model': list(sorted_scores.keys()),\n",
        "    'Accuracy': list(sorted_scores.values())\n",
        "})\n",
        "\n",
        "sns.set(style=\"whitegrid\")\n",
        "\n",
        "# colormap 설정 (Blues 계열)\n",
        "# DT가 완전 흰색 되지 않도록 최소값보다 살짝 더 낮게 vmin 설정\n",
        "buffer = 0.005  # 색상 하한 완충\n",
        "norm = mcolors.Normalize(vmin=df_scores['Accuracy'].min() - buffer,\n",
        "                         vmax=df_scores['Accuracy'].max())\n",
        "cmap = cm.get_cmap('Blues')\n",
        "colors = [cmap(norm(val)) for val in df_scores['Accuracy']]\n",
        "\n",
        "# 시각화\n",
        "plt.figure(figsize=(10, 6))\n",
        "ax = sns.barplot(data=df_scores, x='Model', y='Accuracy', palette=colors)\n",
        "\n",
        "plt.ylim(0.8, 0.88)\n",
        "plt.title(\"Model Accuracy Comparison\", fontsize=15)\n",
        "plt.ylabel(\"Accuracy\", fontsize=12)\n",
        "plt.xlabel(\"\")\n",
        "plt.xticks(rotation=30, fontsize=10)\n",
        "plt.yticks(fontsize=10)\n",
        "\n",
        "# 막대 위 수치 출력\n",
        "for i, row in df_scores.iterrows():\n",
        "    ax.text(i, row['Accuracy'] + 0.001, f\"{row['Accuracy']:.3f}\",\n",
        "            ha='center', va='bottom', fontsize=9, color='black')\n",
        "\n",
        "plt.tight_layout()\n",
        "plt.show()\n"
      ],
      "metadata": {
        "colab": {
          "base_uri": "https://localhost:8080/",
          "height": 601
        },
        "id": "5Q3nE8K2pClb",
        "outputId": "f047b5db-a4d7-4864-f54e-d3cabdedf802"
      },
      "execution_count": 46,
      "outputs": [
        {
          "output_type": "display_data",
          "data": {
            "text/plain": [
              "<Figure size 1000x600 with 1 Axes>"
            ],
            "image/png": "[encoded data removed]"
          },
          "metadata": {}
        }
      ]
    },
    {
      "cell_type": "markdown",
      "metadata": {
        "id": "k-b7lfXzKH0L"
      },
      "source": [
        "#### CAT"
      ]
    },
    {
      "cell_type": "code",
      "execution_count": 47,
      "metadata": {
        "id": "NF62M-a4KH0L",
        "colab": {
          "base_uri": "https://localhost:8080/"
        },
        "outputId": "8110ef39-7e3a-4ebb-e672-69c8002c2017"
      },
      "outputs": [
        {
          "output_type": "stream",
          "name": "stderr",
          "text": [
            "\r0it [00:00, ?it/s]"
          ]
        },
        {
          "output_type": "stream",
          "name": "stdout",
          "text": [
            "0:\tlearn: 0.8437550\ttotal: 17.4ms\tremaining: 17.4s\n",
            "200:\tlearn: 0.8610905\ttotal: 1.13s\tremaining: 4.49s\n",
            "400:\tlearn: 0.8640033\ttotal: 2.19s\tremaining: 3.28s\n",
            "600:\tlearn: 0.8656778\ttotal: 3.27s\tremaining: 2.17s\n",
            "800:\tlearn: 0.8666672\ttotal: 4.36s\tremaining: 1.08s\n",
            "999:\tlearn: 0.8675997\ttotal: 5.55s\tremaining: 0us\n"
          ]
        },
        {
          "output_type": "stream",
          "name": "stderr",
          "text": [
            "\r1it [00:06,  6.30s/it]"
          ]
        },
        {
          "output_type": "stream",
          "name": "stdout",
          "text": [
            "0:\tlearn: 0.8446860\ttotal: 6.06ms\tremaining: 6.05s\n",
            "200:\tlearn: 0.8608631\ttotal: 1.05s\tremaining: 4.16s\n",
            "400:\tlearn: 0.8639049\ttotal: 2.1s\tremaining: 3.14s\n",
            "600:\tlearn: 0.8655872\ttotal: 3.16s\tremaining: 2.1s\n",
            "800:\tlearn: 0.8665182\ttotal: 4.24s\tremaining: 1.05s\n",
            "999:\tlearn: 0.8673109\ttotal: 5.33s\tremaining: 0us\n"
          ]
        },
        {
          "output_type": "stream",
          "name": "stderr",
          "text": [
            "\r2it [00:12,  6.50s/it]"
          ]
        },
        {
          "output_type": "stream",
          "name": "stdout",
          "text": [
            "0:\tlearn: 0.8443357\ttotal: 5.96ms\tremaining: 5.95s\n",
            "200:\tlearn: 0.8607632\ttotal: 1.07s\tremaining: 4.24s\n",
            "400:\tlearn: 0.8636791\ttotal: 2.23s\tremaining: 3.33s\n",
            "600:\tlearn: 0.8653567\ttotal: 3.32s\tremaining: 2.2s\n",
            "800:\tlearn: 0.8664874\ttotal: 4.38s\tremaining: 1.09s\n",
            "999:\tlearn: 0.8672402\ttotal: 5.43s\tremaining: 0us\n"
          ]
        },
        {
          "output_type": "stream",
          "name": "stderr",
          "text": [
            "\r3it [00:19,  6.62s/it]"
          ]
        },
        {
          "output_type": "stream",
          "name": "stdout",
          "text": [
            "0:\tlearn: 0.8440116\ttotal: 7.22ms\tremaining: 7.21s\n",
            "200:\tlearn: 0.8608109\ttotal: 1.08s\tremaining: 4.31s\n",
            "400:\tlearn: 0.8639326\ttotal: 2.17s\tremaining: 3.24s\n",
            "600:\tlearn: 0.8656333\ttotal: 3.27s\tremaining: 2.17s\n",
            "800:\tlearn: 0.8666733\ttotal: 4.38s\tremaining: 1.09s\n",
            "999:\tlearn: 0.8674046\ttotal: 5.55s\tremaining: 0us\n"
          ]
        },
        {
          "output_type": "stream",
          "name": "stderr",
          "text": [
            "\r4it [00:26,  6.71s/it]"
          ]
        },
        {
          "output_type": "stream",
          "name": "stdout",
          "text": [
            "0:\tlearn: 0.8451499\ttotal: 5.97ms\tremaining: 5.97s\n",
            "200:\tlearn: 0.8610797\ttotal: 1.11s\tremaining: 4.43s\n",
            "400:\tlearn: 0.8639710\ttotal: 2.22s\tremaining: 3.31s\n",
            "600:\tlearn: 0.8656117\ttotal: 3.32s\tremaining: 2.2s\n",
            "800:\tlearn: 0.8667286\ttotal: 4.44s\tremaining: 1.1s\n",
            "999:\tlearn: 0.8675321\ttotal: 5.51s\tremaining: 0us\n"
          ]
        },
        {
          "output_type": "stream",
          "name": "stderr",
          "text": [
            "5it [00:33,  6.68s/it]"
          ]
        },
        {
          "output_type": "stream",
          "name": "stdout",
          "text": [
            "[1 1 1 1 1 1 1 1 1 1]\n",
            "CatBoostClassifier Fold 평균 Accuracy: 0.8662\n"
          ]
        },
        {
          "output_type": "stream",
          "name": "stderr",
          "text": [
            "\n"
          ]
        }
      ],
      "source": [
        "import numpy as np\n",
        "import pandas as pd\n",
        "from sklearn.metrics import accuracy_score\n",
        "from sklearn.model_selection import KFold\n",
        "from catboost import CatBoostClassifier, Pool\n",
        "from catboost.utils import get_gpu_device_count\n",
        "from tqdm import tqdm\n",
        "\n",
        "# GPU 여부 확인\n",
        "device_type = 'GPU' if get_gpu_device_count() > 0 else 'CPU'\n",
        "\n",
        "model_cb = CatBoostClassifier(\n",
        "    eval_metric='Accuracy',\n",
        "    loss_function='CrossEntropy',\n",
        "    random_state=0,\n",
        "    verbose=200,\n",
        "    task_type=device_type\n",
        ")\n",
        "\n",
        "cb_pred = np.zeros((X_test.shape[0]))\n",
        "accuracy_list = []\n",
        "kf = KFold(n_splits=5, shuffle=True, random_state=42)\n",
        "\n",
        "for tr_idx, val_idx in tqdm(kf.split(X_train, y_train)):\n",
        "    tr_x, tr_y = X_train.iloc[tr_idx], y_train.iloc[tr_idx]\n",
        "    val_x, val_y = X_train.iloc[val_idx], y_train.iloc[val_idx]\n",
        "\n",
        "    train_pool = Pool(data=tr_x, label=tr_y)\n",
        "    val_pool = Pool(data=val_x, label=val_y)\n",
        "\n",
        "    model_cb.fit(train_pool)\n",
        "    pred = model_cb.predict(val_pool)\n",
        "\n",
        "    acc = accuracy_score(val_y, pred)\n",
        "    accuracy_list.append(acc)\n",
        "\n",
        "    test_pool = Pool(data=X_test)\n",
        "    sub_pred = model_cb.predict_proba(test_pool)[:, 1]\n",
        "    cb_pred += sub_pred\n",
        "\n",
        "final_predictions_cb = (cb_pred / kf.get_n_splits() >= 0.495).astype(int)\n",
        "\n",
        "print(final_predictions_cb[:10])\n",
        "print(f'{model_cb.__class__.__name__} Fold 평균 Accuracy: {np.mean(accuracy_list):.4f}')\n"
      ]
    },
    {
      "cell_type": "markdown",
      "metadata": {
        "id": "Xbw2FU7oKH0L"
      },
      "source": [
        "#### LGBM"
      ]
    },
    {
      "cell_type": "code",
      "execution_count": 48,
      "metadata": {
        "scrolled": true,
        "id": "DiYzYl4EKH0L",
        "outputId": "d1a56447-cd1f-4b63-cd95-be7c7540e30c",
        "colab": {
          "base_uri": "https://localhost:8080/"
        }
      },
      "outputs": [
        {
          "output_type": "stream",
          "name": "stderr",
          "text": [
            "\r0it [00:00, ?it/s]"
          ]
        },
        {
          "output_type": "stream",
          "name": "stdout",
          "text": [
            "[LightGBM] [Info] Number of positive: 253249, number of negative: 397671\n",
            "[LightGBM] [Info] Auto-choosing row-wise multi-threading, the overhead of testing was 0.040155 seconds.\n",
            "You can set `force_row_wise=true` to remove the overhead.\n",
            "And if memory is not enough, you can set `force_col_wise=true`.\n",
            "[LightGBM] [Info] Total Bins 2211\n",
            "[LightGBM] [Info] Number of data points in the train set: 650920, number of used features: 31\n",
            "[LightGBM] [Info] [binary:BoostFromScore]: pavg=0.389063 -> initscore=-0.451252\n",
            "[LightGBM] [Info] Start training from score -0.451252\n",
            "0.8699625145947275\n"
          ]
        },
        {
          "output_type": "stream",
          "name": "stderr",
          "text": [
            "\r1it [01:24, 84.62s/it]"
          ]
        },
        {
          "output_type": "stream",
          "name": "stdout",
          "text": [
            "[LightGBM] [Info] Number of positive: 253255, number of negative: 397665\n",
            "[LightGBM] [Info] Auto-choosing row-wise multi-threading, the overhead of testing was 0.037090 seconds.\n",
            "You can set `force_row_wise=true` to remove the overhead.\n",
            "And if memory is not enough, you can set `force_col_wise=true`.\n",
            "[LightGBM] [Info] Total Bins 2205\n",
            "[LightGBM] [Info] Number of data points in the train set: 650920, number of used features: 31\n",
            "[LightGBM] [Info] [binary:BoostFromScore]: pavg=0.389072 -> initscore=-0.451213\n",
            "[LightGBM] [Info] Start training from score -0.451213\n",
            "0.8706999324033675\n"
          ]
        },
        {
          "output_type": "stream",
          "name": "stderr",
          "text": [
            "\r2it [02:49, 84.84s/it]"
          ]
        },
        {
          "output_type": "stream",
          "name": "stdout",
          "text": [
            "[LightGBM] [Info] Number of positive: 253497, number of negative: 397423\n",
            "[LightGBM] [Info] Auto-choosing row-wise multi-threading, the overhead of testing was 0.031098 seconds.\n",
            "You can set `force_row_wise=true` to remove the overhead.\n",
            "And if memory is not enough, you can set `force_col_wise=true`.\n",
            "[LightGBM] [Info] Total Bins 2208\n",
            "[LightGBM] [Info] Number of data points in the train set: 650920, number of used features: 31\n",
            "[LightGBM] [Info] [binary:BoostFromScore]: pavg=0.389444 -> initscore=-0.449649\n",
            "[LightGBM] [Info] Start training from score -0.449649\n",
            "0.8710563510108769\n"
          ]
        },
        {
          "output_type": "stream",
          "name": "stderr",
          "text": [
            "\r3it [04:13, 84.34s/it]"
          ]
        },
        {
          "output_type": "stream",
          "name": "stdout",
          "text": [
            "[LightGBM] [Info] Number of positive: 253073, number of negative: 397847\n",
            "[LightGBM] [Info] Auto-choosing row-wise multi-threading, the overhead of testing was 0.031085 seconds.\n",
            "You can set `force_row_wise=true` to remove the overhead.\n",
            "And if memory is not enough, you can set `force_col_wise=true`.\n",
            "[LightGBM] [Info] Total Bins 2212\n",
            "[LightGBM] [Info] Number of data points in the train set: 650920, number of used features: 31\n",
            "[LightGBM] [Info] [binary:BoostFromScore]: pavg=0.388793 -> initscore=-0.452390\n",
            "[LightGBM] [Info] Start training from score -0.452390\n",
            "0.8709703189332022\n"
          ]
        },
        {
          "output_type": "stream",
          "name": "stderr",
          "text": [
            "\r4it [05:38, 84.53s/it]"
          ]
        },
        {
          "output_type": "stream",
          "name": "stdout",
          "text": [
            "[LightGBM] [Info] Number of positive: 253186, number of negative: 397734\n",
            "[LightGBM] [Info] Auto-choosing row-wise multi-threading, the overhead of testing was 0.036974 seconds.\n",
            "You can set `force_row_wise=true` to remove the overhead.\n",
            "And if memory is not enough, you can set `force_col_wise=true`.\n",
            "[LightGBM] [Info] Total Bins 2209\n",
            "[LightGBM] [Info] Number of data points in the train set: 650920, number of used features: 31\n",
            "[LightGBM] [Info] [binary:BoostFromScore]: pavg=0.388966 -> initscore=-0.451659\n",
            "[LightGBM] [Info] Start training from score -0.451659\n",
            "0.8701898850857248\n"
          ]
        },
        {
          "output_type": "stream",
          "name": "stderr",
          "text": [
            "5it [07:01, 84.35s/it]"
          ]
        },
        {
          "output_type": "stream",
          "name": "stdout",
          "text": [
            "[1 1 1 ... 0 0 1]\n",
            "LGBMClassifier의 fold 평균 Accuracy는 0.8706\n"
          ]
        },
        {
          "output_type": "stream",
          "name": "stderr",
          "text": [
            "\n"
          ]
        }
      ],
      "source": [
        "from lightgbm import LGBMClassifier\n",
        "from sklearn.model_selection import KFold\n",
        "from sklearn.metrics import accuracy_score\n",
        "from tqdm import tqdm\n",
        "import numpy as np\n",
        "\n",
        "model_lgbm = LGBMClassifier(\n",
        "    n_estimators=4000,\n",
        "    learning_rate=0.05,\n",
        "    objective='binary',\n",
        "    metric='binary_error',\n",
        "    random_state=44\n",
        ")\n",
        "\n",
        "lgbm_pred = np.zeros((X_test.shape[0]))\n",
        "accuracy_list = []\n",
        "threshold = 0.5\n",
        "spl = 5\n",
        "\n",
        "kf = KFold(n_splits=spl, shuffle=True, random_state=42)\n",
        "\n",
        "for tr_idx, val_idx in tqdm(kf.split(X_train, y_train)):\n",
        "    tr_x, tr_y = X_train.iloc[tr_idx], y_train.iloc[tr_idx]\n",
        "    val_x, val_y = X_train.iloc[val_idx], y_train.iloc[val_idx]\n",
        "\n",
        "    model_lgbm.fit(tr_x, tr_y, eval_metric='accuracy')\n",
        "    pred = model_lgbm.predict(val_x)\n",
        "\n",
        "    acc = accuracy_score(val_y, pred)\n",
        "    accuracy_list.append(acc)\n",
        "    print(acc)\n",
        "\n",
        "    sub_pred = model_lgbm.predict_proba(X_test)[:, 1]\n",
        "    lgbm_pred += sub_pred\n",
        "\n",
        "final_predictions_lgbm = (lgbm_pred / spl >= 0.495).astype(int)\n",
        "\n",
        "print(final_predictions_lgbm)\n",
        "print(f'{model_lgbm.__class__.__name__}의 fold 평균 Accuracy는 {np.mean(accuracy_list):.4f}')\n"
      ]
    },
    {
      "cell_type": "markdown",
      "metadata": {
        "id": "6m4bUQ7JKH0L"
      },
      "source": [
        "#### XGB"
      ]
    },
    {
      "cell_type": "code",
      "execution_count": 49,
      "metadata": {
        "id": "Vk6bIlrvKH0L",
        "colab": {
          "base_uri": "https://localhost:8080/"
        },
        "outputId": "4928d23f-f708-4ccb-cc98-78f3404bc311"
      },
      "outputs": [
        {
          "output_type": "stream",
          "name": "stderr",
          "text": [
            "\r0it [00:00, ?it/s]"
          ]
        },
        {
          "output_type": "stream",
          "name": "stdout",
          "text": [
            "0.8606157438702144\n"
          ]
        },
        {
          "output_type": "stream",
          "name": "stderr",
          "text": [
            "\r1it [04:13, 253.98s/it]"
          ]
        },
        {
          "output_type": "stream",
          "name": "stdout",
          "text": [
            "0.8606095987218091\n"
          ]
        },
        {
          "output_type": "stream",
          "name": "stderr",
          "text": [
            "\r2it [07:20, 214.55s/it]"
          ]
        },
        {
          "output_type": "stream",
          "name": "stdout",
          "text": [
            "0.8607632274319424\n"
          ]
        },
        {
          "output_type": "stream",
          "name": "stderr",
          "text": [
            "\r3it [10:29, 202.47s/it]"
          ]
        },
        {
          "output_type": "stream",
          "name": "stdout",
          "text": [
            "0.8611688072266945\n"
          ]
        },
        {
          "output_type": "stream",
          "name": "stderr",
          "text": [
            "\r4it [13:37, 196.99s/it]"
          ]
        },
        {
          "output_type": "stream",
          "name": "stdout",
          "text": [
            "0.8583481841086462\n"
          ]
        },
        {
          "output_type": "stream",
          "name": "stderr",
          "text": [
            "5it [16:44, 200.92s/it]"
          ]
        },
        {
          "output_type": "stream",
          "name": "stdout",
          "text": [
            "[1 1 1 ... 0 0 1]\n",
            "XGBClassifier의 fold 평균 Accuracy는 0.8603\n"
          ]
        },
        {
          "output_type": "stream",
          "name": "stderr",
          "text": [
            "\n"
          ]
        }
      ],
      "source": [
        "from xgboost import XGBClassifier\n",
        "import numpy as np\n",
        "from sklearn.model_selection import KFold\n",
        "from sklearn.metrics import accuracy_score\n",
        "from tqdm import tqdm\n",
        "\n",
        "best_params = {\n",
        "    'n_estimators': 5000,\n",
        "    'max_depth': 15,\n",
        "    'learning_rate': 0.1,\n",
        "    'subsample': 0.95,\n",
        "    'colsample_bytree': 0.95,\n",
        "    'gamma': 1e-8,\n",
        "    'min_child_weight': 20,\n",
        "    'random_state': 0,\n",
        "    'eval_metric': 'error',\n",
        "    'objective': 'binary:logistic',\n",
        "    'verbosity': 0\n",
        "}\n",
        "\n",
        "model_xgb = XGBClassifier(**best_params)\n",
        "xgb_pred = np.zeros((X_test.shape[0]))\n",
        "accuracy_list = []\n",
        "\n",
        "kf = KFold(n_splits=5, shuffle=True, random_state=42)\n",
        "\n",
        "for tr_idx, val_idx in tqdm(kf.split(X_train, y_train)):\n",
        "    tr_x, tr_y = X_train.iloc[tr_idx], y_train.iloc[tr_idx]\n",
        "    val_x, val_y = X_train.iloc[val_idx], y_train.iloc[val_idx]\n",
        "\n",
        "    model_xgb.fit(tr_x, tr_y)\n",
        "    pred = model_xgb.predict(val_x)\n",
        "\n",
        "    acc = accuracy_score(val_y, pred)\n",
        "    accuracy_list.append(acc)\n",
        "    print(acc)\n",
        "\n",
        "    sub_pred = model_xgb.predict_proba(X_test)[:, 1]\n",
        "    xgb_pred += sub_pred\n",
        "\n",
        "final_predictions_xgb = (xgb_pred / kf.get_n_splits() >= 0.495).astype(int)\n",
        "\n",
        "print(final_predictions_xgb)\n",
        "print(f'{model_xgb.__class__.__name__}의 fold 평균 Accuracy는 {np.mean(accuracy_list):.4f}')\n"
      ]
    },
    {
      "cell_type": "markdown",
      "source": [
        "#### 최종예측값 도출"
      ],
      "metadata": {
        "id": "VBWrs9I75lY8"
      }
    },
    {
      "cell_type": "code",
      "execution_count": 50,
      "metadata": {
        "id": "if5Csh__KH0M"
      },
      "outputs": [],
      "source": [
        "avg_predictions = (final_predictions_lgbm + final_predictions_xgb + final_predictions_cb) / 3\n",
        "threshold = 0.5\n",
        "final_predictions = np.where(avg_predictions >= threshold, 1, 0)"
      ]
    },
    {
      "cell_type": "markdown",
      "source": [
        "#### Submission"
      ],
      "metadata": {
        "id": "ZHpfvWjG5dNu"
      }
    },
    {
      "cell_type": "code",
      "execution_count": 51,
      "metadata": {
        "id": "wb1WOQVAKH0M",
        "colab": {
          "base_uri": "https://localhost:8080/"
        },
        "outputId": "5a60638e-26bf-4515-a69c-a4d7c28a4251"
      },
      "outputs": [
        {
          "output_type": "stream",
          "name": "stdout",
          "text": [
            "541867\n"
          ]
        }
      ],
      "source": [
        "# 예측 결과 길이 확인\n",
        "print(len(final_predictions))"
      ]
    },
    {
      "cell_type": "code",
      "execution_count": 52,
      "metadata": {
        "id": "1_GPyF4jKH0M",
        "colab": {
          "base_uri": "https://localhost:8080/"
        },
        "outputId": "b8845682-ebbc-456b-e9cb-7b343bbabff8"
      },
      "outputs": [
        {
          "output_type": "stream",
          "name": "stdout",
          "text": [
            "'(oof_hardvoting_submission)_07150916.csv' is ready to submit.\n"
          ]
        }
      ],
      "source": [
        "# 제출 파일 생성\n",
        "t = pd.Timestamp.now()\n",
        "fname = f\"(oof_hardvoting_submission)_{t.month:02}{t.day:02}{t.hour:02}{t.minute:02}.csv\"\n",
        "submission = pd.DataFrame({'ID': ID_test, 'STATUS': final_predictions})\n",
        "submission.to_csv(fname, index=False)\n",
        "print(f\"'{fname}' is ready to submit.\")"
      ]
    }
  ],
  "metadata": {
    "kernelspec": {
      "display_name": "Python 3",
      "name": "python3"
    },
    "language_info": {
      "codemirror_mode": {
        "name": "ipython",
        "version": 3
      },
      "file_extension": ".py",
      "mimetype": "text/x-python",
      "name": "python",
      "nbconvert_exporter": "python",
      "pygments_lexer": "ipython3",
      "version": "3.12.4"
    },
    "colab": {
      "provenance": [],
      "gpuType": "A100"
    },
    "accelerator": "GPU"
  },
  "nbformat": 4,
  "nbformat_minor": 0
}